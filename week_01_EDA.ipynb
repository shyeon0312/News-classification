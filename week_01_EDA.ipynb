{
 "cells": [
  {
   "attachments": {},
   "cell_type": "markdown",
   "metadata": {},
   "source": [
    "## 1주차 과제 : __이진 분류__ (외교/국방/정치)"
   ]
  },
  {
   "attachments": {},
   "cell_type": "markdown",
   "metadata": {},
   "source": [
    "__Data Exploration__"
   ]
  },
  {
   "cell_type": "code",
   "execution_count": 1,
   "metadata": {},
   "outputs": [],
   "source": [
    "import pandas as pd\n",
    "import numpy as np\n",
    "import matplotlib.pyplot as plt\n",
    "import seaborn as sns\n",
    "\n",
    "plt.rcParams['font.family'] = 'Malgun Gothic'"
   ]
  },
  {
   "cell_type": "code",
   "execution_count": 2,
   "metadata": {},
   "outputs": [
    {
     "data": {
      "text/html": [
       "<div>\n",
       "<style scoped>\n",
       "    .dataframe tbody tr th:only-of-type {\n",
       "        vertical-align: middle;\n",
       "    }\n",
       "\n",
       "    .dataframe tbody tr th {\n",
       "        vertical-align: top;\n",
       "    }\n",
       "\n",
       "    .dataframe thead th {\n",
       "        text-align: right;\n",
       "    }\n",
       "</style>\n",
       "<table border=\"1\" class=\"dataframe\">\n",
       "  <thead>\n",
       "    <tr style=\"text-align: right;\">\n",
       "      <th></th>\n",
       "      <th>docID</th>\n",
       "      <th>date</th>\n",
       "      <th>writerName</th>\n",
       "      <th>title</th>\n",
       "      <th>content</th>\n",
       "      <th>tag</th>\n",
       "    </tr>\n",
       "  </thead>\n",
       "  <tbody>\n",
       "    <tr>\n",
       "      <th>0</th>\n",
       "      <td>1</td>\n",
       "      <td>20230214</td>\n",
       "      <td>머니S</td>\n",
       "      <td>정부, AI반도체 석·박사 집중 육성… 대학당 '6년간 164억원' 지원</td>\n",
       "      <td>정부가 미국 AI 개발업체인 '오픈AI'(OpenAI)의 '챗GPT'(ChatGPT...</td>\n",
       "      <td>0</td>\n",
       "    </tr>\n",
       "    <tr>\n",
       "      <th>1</th>\n",
       "      <td>2</td>\n",
       "      <td>20230215</td>\n",
       "      <td>뉴시스</td>\n",
       "      <td>인사 청탁 대가 금품수수 의혹 전 소방청장 영장 기각</td>\n",
       "      <td>기사내용 요약 법원 \"피의 사실 일부 다툼 여지, 불구속 상태 방어권 보장 필요\" ...</td>\n",
       "      <td>0</td>\n",
       "    </tr>\n",
       "    <tr>\n",
       "      <th>2</th>\n",
       "      <td>3</td>\n",
       "      <td>20230214</td>\n",
       "      <td>아이뉴스24</td>\n",
       "      <td>튀르키예 강진에 우리나라 지하수가 출렁였다</td>\n",
       "      <td>튀르키예에서 발생한 강진에 우리나라의 지하수가 출렁였다는 관측 보고가 나왔다. 한국...</td>\n",
       "      <td>0</td>\n",
       "    </tr>\n",
       "    <tr>\n",
       "      <th>3</th>\n",
       "      <td>4</td>\n",
       "      <td>20230215</td>\n",
       "      <td>데일리안</td>\n",
       "      <td>멸치쇼핑, 2023년 신입 및 경력 사원 대규모 공채 진행</td>\n",
       "      <td>[데일리안 = 박영민 기자] 오픈마켓 멸치쇼핑이 2023년 신입 및 경력 사원을 대...</td>\n",
       "      <td>0</td>\n",
       "    </tr>\n",
       "    <tr>\n",
       "      <th>4</th>\n",
       "      <td>5</td>\n",
       "      <td>20230111</td>\n",
       "      <td>뉴스1</td>\n",
       "      <td>美국방부, 추모의 벽 전사자 명단 오류에 \"유감스러운 실수\"</td>\n",
       "      <td>국방부 대변인 \"실수 바로잡기 위해 내무부와 협력\"…'오류 발견' 가족 등에 연락 ...</td>\n",
       "      <td>1</td>\n",
       "    </tr>\n",
       "  </tbody>\n",
       "</table>\n",
       "</div>"
      ],
      "text/plain": [
       "   docID      date writerName                                     title  \\\n",
       "0      1  20230214        머니S  정부, AI반도체 석·박사 집중 육성… 대학당 '6년간 164억원' 지원   \n",
       "1      2  20230215        뉴시스             인사 청탁 대가 금품수수 의혹 전 소방청장 영장 기각   \n",
       "2      3  20230214     아이뉴스24                   튀르키예 강진에 우리나라 지하수가 출렁였다   \n",
       "3      4  20230215       데일리안          멸치쇼핑, 2023년 신입 및 경력 사원 대규모 공채 진행   \n",
       "4      5  20230111        뉴스1         美국방부, 추모의 벽 전사자 명단 오류에 \"유감스러운 실수\"   \n",
       "\n",
       "                                             content  tag  \n",
       "0  정부가 미국 AI 개발업체인 '오픈AI'(OpenAI)의 '챗GPT'(ChatGPT...    0  \n",
       "1  기사내용 요약 법원 \"피의 사실 일부 다툼 여지, 불구속 상태 방어권 보장 필요\" ...    0  \n",
       "2  튀르키예에서 발생한 강진에 우리나라의 지하수가 출렁였다는 관측 보고가 나왔다. 한국...    0  \n",
       "3  [데일리안 = 박영민 기자] 오픈마켓 멸치쇼핑이 2023년 신입 및 경력 사원을 대...    0  \n",
       "4  국방부 대변인 \"실수 바로잡기 위해 내무부와 협력\"…'오류 발견' 가족 등에 연락 ...    1  "
      ]
     },
     "execution_count": 2,
     "metadata": {},
     "output_type": "execute_result"
    }
   ],
   "source": [
    "df = pd.read_csv('../data/train.csv')\n",
    "df.head()"
   ]
  },
  {
   "attachments": {},
   "cell_type": "markdown",
   "metadata": {},
   "source": [
    "### tag"
   ]
  },
  {
   "cell_type": "code",
   "execution_count": 3,
   "metadata": {},
   "outputs": [
    {
     "name": "stdout",
     "output_type": "stream",
     "text": [
      "Y:  3184\n",
      "N:  4816\n"
     ]
    }
   ],
   "source": [
    "print('Y: ', sum(df['tag']))\n",
    "print('N: ', len(df)-sum(df['tag']))"
   ]
  },
  {
   "cell_type": "code",
   "execution_count": 48,
   "metadata": {},
   "outputs": [
    {
     "data": {
      "image/png": "[encoded data removed]",
      "text/plain": [
       "<Figure size 640x480 with 1 Axes>"
      ]
     },
     "metadata": {},
     "output_type": "display_data"
    }
   ],
   "source": [
    "labels = ['Y', 'N']\n",
    "data = [sum(df['tag']), len(df)-sum(df['tag'])]\n",
    "\n",
    "#colors = sns.color_pallette('pastel')[0:5]\n",
    "plt.pie(data, labels=labels, autopct='%.0f%%')\n",
    "plt.title('tag_0과 tag_1의 분포 확인')\n",
    "plt.savefig('./graph/분포확인.png')\n",
    "plt.show()"
   ]
  },
  {
   "attachments": {},
   "cell_type": "markdown",
   "metadata": {},
   "source": [
    "### writerName"
   ]
  },
  {
   "cell_type": "code",
   "execution_count": 5,
   "metadata": {},
   "outputs": [
    {
     "data": {
      "text/plain": [
       "92"
      ]
     },
     "execution_count": 5,
     "metadata": {},
     "output_type": "execute_result"
    }
   ],
   "source": [
    "len(df['writerName'].unique()) # 신문사 총 개수"
   ]
  },
  {
   "cell_type": "code",
   "execution_count": 54,
   "metadata": {},
   "outputs": [
    {
     "data": {
      "text/html": [
       "<div>\n",
       "<style scoped>\n",
       "    .dataframe tbody tr th:only-of-type {\n",
       "        vertical-align: middle;\n",
       "    }\n",
       "\n",
       "    .dataframe tbody tr th {\n",
       "        vertical-align: top;\n",
       "    }\n",
       "\n",
       "    .dataframe thead th {\n",
       "        text-align: right;\n",
       "    }\n",
       "</style>\n",
       "<table border=\"1\" class=\"dataframe\">\n",
       "  <thead>\n",
       "    <tr style=\"text-align: right;\">\n",
       "      <th></th>\n",
       "      <th>writerName</th>\n",
       "      <th>tag_1</th>\n",
       "      <th>total_cnt</th>\n",
       "      <th>writer_score</th>\n",
       "    </tr>\n",
       "  </thead>\n",
       "  <tbody>\n",
       "    <tr>\n",
       "      <th>43</th>\n",
       "      <td>문화일보</td>\n",
       "      <td>198</td>\n",
       "      <td>214</td>\n",
       "      <td>0.925234</td>\n",
       "    </tr>\n",
       "    <tr>\n",
       "      <th>80</th>\n",
       "      <td>코리아중앙데일리</td>\n",
       "      <td>53</td>\n",
       "      <td>61</td>\n",
       "      <td>0.868852</td>\n",
       "    </tr>\n",
       "    <tr>\n",
       "      <th>14</th>\n",
       "      <td>강원도민일보</td>\n",
       "      <td>99</td>\n",
       "      <td>119</td>\n",
       "      <td>0.831933</td>\n",
       "    </tr>\n",
       "    <tr>\n",
       "      <th>78</th>\n",
       "      <td>중앙일보</td>\n",
       "      <td>184</td>\n",
       "      <td>231</td>\n",
       "      <td>0.796537</td>\n",
       "    </tr>\n",
       "    <tr>\n",
       "      <th>64</th>\n",
       "      <td>연합뉴스</td>\n",
       "      <td>801</td>\n",
       "      <td>1029</td>\n",
       "      <td>0.778426</td>\n",
       "    </tr>\n",
       "    <tr>\n",
       "      <th>...</th>\n",
       "      <td>...</td>\n",
       "      <td>...</td>\n",
       "      <td>...</td>\n",
       "      <td>...</td>\n",
       "    </tr>\n",
       "    <tr>\n",
       "      <th>32</th>\n",
       "      <td>동아사이언스</td>\n",
       "      <td>0</td>\n",
       "      <td>32</td>\n",
       "      <td>0.000000</td>\n",
       "    </tr>\n",
       "    <tr>\n",
       "      <th>30</th>\n",
       "      <td>데일리e스포츠</td>\n",
       "      <td>0</td>\n",
       "      <td>25</td>\n",
       "      <td>0.000000</td>\n",
       "    </tr>\n",
       "    <tr>\n",
       "      <th>28</th>\n",
       "      <td>더스쿠프</td>\n",
       "      <td>0</td>\n",
       "      <td>6</td>\n",
       "      <td>0.000000</td>\n",
       "    </tr>\n",
       "    <tr>\n",
       "      <th>27</th>\n",
       "      <td>대전일보</td>\n",
       "      <td>0</td>\n",
       "      <td>53</td>\n",
       "      <td>0.000000</td>\n",
       "    </tr>\n",
       "    <tr>\n",
       "      <th>91</th>\n",
       "      <td>헬스조선</td>\n",
       "      <td>0</td>\n",
       "      <td>62</td>\n",
       "      <td>0.000000</td>\n",
       "    </tr>\n",
       "  </tbody>\n",
       "</table>\n",
       "<p>92 rows × 4 columns</p>\n",
       "</div>"
      ],
      "text/plain": [
       "   writerName  tag_1  total_cnt  writer_score\n",
       "43       문화일보    198        214      0.925234\n",
       "80   코리아중앙데일리     53         61      0.868852\n",
       "14     강원도민일보     99        119      0.831933\n",
       "78       중앙일보    184        231      0.796537\n",
       "64       연합뉴스    801       1029      0.778426\n",
       "..        ...    ...        ...           ...\n",
       "32     동아사이언스      0         32      0.000000\n",
       "30    데일리e스포츠      0         25      0.000000\n",
       "28       더스쿠프      0          6      0.000000\n",
       "27       대전일보      0         53      0.000000\n",
       "91       헬스조선      0         62      0.000000\n",
       "\n",
       "[92 rows x 4 columns]"
      ]
     },
     "execution_count": 54,
     "metadata": {},
     "output_type": "execute_result"
    }
   ],
   "source": [
    "df_writer = df[['writerName', 'tag']].groupby('writerName', as_index=False).sum() # 신문사별 tag==1 개수 추출\n",
    "df_writer.rename(columns={'tag':'tag_1'}, inplace=True)\n",
    "\n",
    "total_cnt = df[['writerName', 'tag']].groupby(['writerName'], as_index=False).count()['tag'] # 신문사별 기사 개수 추출\n",
    "df_writer['total_cnt'] = total_cnt\n",
    "\n",
    "df_writer['writer_score'] = df_writer['tag_1']/df_writer['total_cnt'] # 신문사별 tag==1인 비율 계산\n",
    "\n",
    "df_writer.sort_values(by='writer_score', ascending=False)"
   ]
  },
  {
   "cell_type": "code",
   "execution_count": 53,
   "metadata": {},
   "outputs": [
    {
     "data": {
      "image/png": "[encoded data removed]",
      "text/plain": [
       "<Figure size 640x480 with 1 Axes>"
      ]
     },
     "metadata": {},
     "output_type": "display_data"
    }
   ],
   "source": [
    "sns.histplot(df_writer['ratio'], binwidth=0.1, kde=True)\n",
    "plt.title('전체 신문사의 기사 작성 분포')\n",
    "plt.savefig('./graph/ratio확인1.png')\n",
    "plt.show()"
   ]
  },
  {
   "cell_type": "code",
   "execution_count": 8,
   "metadata": {},
   "outputs": [
    {
     "name": "stdout",
     "output_type": "stream",
     "text": [
      "ratio==0인 신문사 개수:  65\n",
      "ratio==0인 신문사 비율:  0.7065217391304348\n"
     ]
    }
   ],
   "source": [
    "print('ratio==0인 신문사 개수: ', len(df_writer[df_writer['ratio']==0]))\n",
    "print('ratio==0인 신문사 비율: ', len(df_writer[df_writer['ratio']==0])/len(df_writer))"
   ]
  },
  {
   "attachments": {},
   "cell_type": "markdown",
   "metadata": {},
   "source": [
    "- 정치/외교/국방 관련 기사를 작성하지 않은 신문사가 압도적으로 많음\n",
    "- 이들을 단어 분리시켰을 때 공통점이 있는지 확인해보기"
   ]
  },
  {
   "cell_type": "code",
   "execution_count": 52,
   "metadata": {},
   "outputs": [
    {
     "data": {
      "image/png": "[encoded data removed]",
      "text/plain": [
       "<Figure size 640x480 with 1 Axes>"
      ]
     },
     "metadata": {},
     "output_type": "display_data"
    }
   ],
   "source": [
    "sns.histplot(df_writer[df_writer['ratio']>0]['ratio'], binwidth=0.1, kde=True)\n",
    "plt.title('ratio!=0인 신문사의 기사 작성 분포')\n",
    "plt.savefig('./graph/ratio확인2.png')\n",
    "plt.show()"
   ]
  },
  {
   "cell_type": "code",
   "execution_count": 10,
   "metadata": {},
   "outputs": [
    {
     "name": "stdout",
     "output_type": "stream",
     "text": [
      "ratio>0.5인 신문사 개수:  12\n",
      "ratio>0.5인 신문사 비율:  0.13043478260869565\n"
     ]
    }
   ],
   "source": [
    "print('ratio>0.5인 신문사 개수: ', len(df_writer[df_writer['ratio']>0.5]))\n",
    "print('ratio>0.5인 신문사 비율: ', len(df_writer[df_writer['ratio']>0.5])/len(df_writer))"
   ]
  },
  {
   "cell_type": "code",
   "execution_count": 11,
   "metadata": {},
   "outputs": [
    {
     "data": {
      "text/plain": [
       "{'강원도민일보',\n",
       " '경향신문',\n",
       " '뉴스1',\n",
       " '머니투데이',\n",
       " '문화일보',\n",
       " '서울경제',\n",
       " '아시아경제',\n",
       " '연합뉴스',\n",
       " '이데일리',\n",
       " '조선일보',\n",
       " '중앙일보',\n",
       " '코리아중앙데일리'}"
      ]
     },
     "execution_count": 11,
     "metadata": {},
     "output_type": "execute_result"
    }
   ],
   "source": [
    "set(df_writer[df_writer['ratio']>0.5]['writerName'])"
   ]
  },
  {
   "attachments": {},
   "cell_type": "markdown",
   "metadata": {},
   "source": [
    "- 정치/외교/문화가 주 토픽인 신문사는 매우 적은 편 -> 추후 예측 시 'ratio'를 변수로 추가해보면 좋을지도\n"
   ]
  },
  {
   "attachments": {},
   "cell_type": "markdown",
   "metadata": {},
   "source": [
    "### title, content"
   ]
  },
  {
   "cell_type": "code",
   "execution_count": 12,
   "metadata": {},
   "outputs": [
    {
     "data": {
      "text/plain": [
       "0"
      ]
     },
     "execution_count": 12,
     "metadata": {},
     "output_type": "execute_result"
    }
   ],
   "source": [
    "sum(df['title'].isna()) # title에 결측치 확인"
   ]
  },
  {
   "cell_type": "code",
   "execution_count": 13,
   "metadata": {},
   "outputs": [
    {
     "data": {
      "text/plain": [
       "102"
      ]
     },
     "execution_count": 13,
     "metadata": {},
     "output_type": "execute_result"
    }
   ],
   "source": [
    "sum(df['content'].isna()) # content에 결측치 확인"
   ]
  },
  {
   "attachments": {},
   "cell_type": "markdown",
   "metadata": {},
   "source": [
    "content가 없는 신문사들 확인"
   ]
  },
  {
   "cell_type": "code",
   "execution_count": 14,
   "metadata": {},
   "outputs": [
    {
     "data": {
      "text/html": [
       "<div>\n",
       "<style scoped>\n",
       "    .dataframe tbody tr th:only-of-type {\n",
       "        vertical-align: middle;\n",
       "    }\n",
       "\n",
       "    .dataframe tbody tr th {\n",
       "        vertical-align: top;\n",
       "    }\n",
       "\n",
       "    .dataframe thead th {\n",
       "        text-align: right;\n",
       "    }\n",
       "</style>\n",
       "<table border=\"1\" class=\"dataframe\">\n",
       "  <thead>\n",
       "    <tr style=\"text-align: right;\">\n",
       "      <th></th>\n",
       "      <th>docID</th>\n",
       "      <th>date</th>\n",
       "      <th>writerName</th>\n",
       "      <th>title</th>\n",
       "      <th>content</th>\n",
       "      <th>tag</th>\n",
       "    </tr>\n",
       "  </thead>\n",
       "  <tbody>\n",
       "    <tr>\n",
       "      <th>132</th>\n",
       "      <td>133</td>\n",
       "      <td>20230105</td>\n",
       "      <td>뉴스1</td>\n",
       "      <td>[속보]軍 \"북한 무인기, 용산 비행금지구역 북쪽 끝 일부 지나가\"</td>\n",
       "      <td>NaN</td>\n",
       "      <td>1</td>\n",
       "    </tr>\n",
       "    <tr>\n",
       "      <th>178</th>\n",
       "      <td>179</td>\n",
       "      <td>20230104</td>\n",
       "      <td>뉴스1</td>\n",
       "      <td>[속보]軍 \"합동 드론사령부 조기 창설… 드론킬러 드론 신속 개발\"</td>\n",
       "      <td>NaN</td>\n",
       "      <td>1</td>\n",
       "    </tr>\n",
       "    <tr>\n",
       "      <th>216</th>\n",
       "      <td>217</td>\n",
       "      <td>20230212</td>\n",
       "      <td>코리아중앙데일리</td>\n",
       "      <td>Greek epics</td>\n",
       "      <td>NaN</td>\n",
       "      <td>1</td>\n",
       "    </tr>\n",
       "    <tr>\n",
       "      <th>385</th>\n",
       "      <td>386</td>\n",
       "      <td>20230214</td>\n",
       "      <td>뉴스1</td>\n",
       "      <td>[속보] 한미일 \"北과 대화에 열려 있어…비핵화 대화 복귀 촉구\"</td>\n",
       "      <td>NaN</td>\n",
       "      <td>1</td>\n",
       "    </tr>\n",
       "    <tr>\n",
       "      <th>399</th>\n",
       "      <td>400</td>\n",
       "      <td>20230203</td>\n",
       "      <td>연합뉴스</td>\n",
       "      <td>[속보] 美 F-22·F-35B, 韓 F-35A와 서해상에서 또 연합공중훈련</td>\n",
       "      <td>NaN</td>\n",
       "      <td>1</td>\n",
       "    </tr>\n",
       "  </tbody>\n",
       "</table>\n",
       "</div>"
      ],
      "text/plain": [
       "     docID      date writerName                                       title  \\\n",
       "132    133  20230105        뉴스1       [속보]軍 \"북한 무인기, 용산 비행금지구역 북쪽 끝 일부 지나가\"   \n",
       "178    179  20230104        뉴스1       [속보]軍 \"합동 드론사령부 조기 창설… 드론킬러 드론 신속 개발\"   \n",
       "216    217  20230212   코리아중앙데일리                                 Greek epics   \n",
       "385    386  20230214        뉴스1        [속보] 한미일 \"北과 대화에 열려 있어…비핵화 대화 복귀 촉구\"   \n",
       "399    400  20230203       연합뉴스  [속보] 美 F-22·F-35B, 韓 F-35A와 서해상에서 또 연합공중훈련   \n",
       "\n",
       "    content  tag  \n",
       "132     NaN    1  \n",
       "178     NaN    1  \n",
       "216     NaN    1  \n",
       "385     NaN    1  \n",
       "399     NaN    1  "
      ]
     },
     "execution_count": 14,
     "metadata": {},
     "output_type": "execute_result"
    }
   ],
   "source": [
    "df_content_na = df[df['content'].isna()]\n",
    "df_content_na.head()"
   ]
  },
  {
   "cell_type": "code",
   "execution_count": 15,
   "metadata": {},
   "outputs": [
    {
     "data": {
      "text/html": [
       "<div>\n",
       "<style scoped>\n",
       "    .dataframe tbody tr th:only-of-type {\n",
       "        vertical-align: middle;\n",
       "    }\n",
       "\n",
       "    .dataframe tbody tr th {\n",
       "        vertical-align: top;\n",
       "    }\n",
       "\n",
       "    .dataframe thead th {\n",
       "        text-align: right;\n",
       "    }\n",
       "</style>\n",
       "<table border=\"1\" class=\"dataframe\">\n",
       "  <thead>\n",
       "    <tr style=\"text-align: right;\">\n",
       "      <th></th>\n",
       "      <th>writerName</th>\n",
       "      <th>content_na_tag_1</th>\n",
       "      <th>content_na</th>\n",
       "      <th>total_cnt</th>\n",
       "      <th>ratio</th>\n",
       "    </tr>\n",
       "  </thead>\n",
       "  <tbody>\n",
       "    <tr>\n",
       "      <th>0</th>\n",
       "      <td>KBS</td>\n",
       "      <td>0</td>\n",
       "      <td>2</td>\n",
       "      <td>207</td>\n",
       "      <td>0.000000</td>\n",
       "    </tr>\n",
       "    <tr>\n",
       "      <th>1</th>\n",
       "      <td>강원일보</td>\n",
       "      <td>0</td>\n",
       "      <td>1</td>\n",
       "      <td>48</td>\n",
       "      <td>0.000000</td>\n",
       "    </tr>\n",
       "    <tr>\n",
       "      <th>2</th>\n",
       "      <td>경향신문</td>\n",
       "      <td>0</td>\n",
       "      <td>3</td>\n",
       "      <td>161</td>\n",
       "      <td>0.677019</td>\n",
       "    </tr>\n",
       "    <tr>\n",
       "      <th>3</th>\n",
       "      <td>뉴스1</td>\n",
       "      <td>27</td>\n",
       "      <td>29</td>\n",
       "      <td>783</td>\n",
       "      <td>0.699872</td>\n",
       "    </tr>\n",
       "    <tr>\n",
       "      <th>4</th>\n",
       "      <td>대전일보</td>\n",
       "      <td>0</td>\n",
       "      <td>1</td>\n",
       "      <td>53</td>\n",
       "      <td>0.000000</td>\n",
       "    </tr>\n",
       "    <tr>\n",
       "      <th>5</th>\n",
       "      <td>디지털타임스</td>\n",
       "      <td>0</td>\n",
       "      <td>1</td>\n",
       "      <td>89</td>\n",
       "      <td>0.011236</td>\n",
       "    </tr>\n",
       "    <tr>\n",
       "      <th>6</th>\n",
       "      <td>매일경제</td>\n",
       "      <td>0</td>\n",
       "      <td>5</td>\n",
       "      <td>240</td>\n",
       "      <td>0.029167</td>\n",
       "    </tr>\n",
       "    <tr>\n",
       "      <th>7</th>\n",
       "      <td>매일신문</td>\n",
       "      <td>0</td>\n",
       "      <td>1</td>\n",
       "      <td>63</td>\n",
       "      <td>0.000000</td>\n",
       "    </tr>\n",
       "    <tr>\n",
       "      <th>8</th>\n",
       "      <td>부산일보</td>\n",
       "      <td>0</td>\n",
       "      <td>1</td>\n",
       "      <td>38</td>\n",
       "      <td>0.000000</td>\n",
       "    </tr>\n",
       "    <tr>\n",
       "      <th>9</th>\n",
       "      <td>세계일보</td>\n",
       "      <td>0</td>\n",
       "      <td>6</td>\n",
       "      <td>77</td>\n",
       "      <td>0.000000</td>\n",
       "    </tr>\n",
       "    <tr>\n",
       "      <th>10</th>\n",
       "      <td>아시아경제</td>\n",
       "      <td>12</td>\n",
       "      <td>12</td>\n",
       "      <td>349</td>\n",
       "      <td>0.667622</td>\n",
       "    </tr>\n",
       "    <tr>\n",
       "      <th>11</th>\n",
       "      <td>아이뉴스24</td>\n",
       "      <td>3</td>\n",
       "      <td>3</td>\n",
       "      <td>99</td>\n",
       "      <td>0.151515</td>\n",
       "    </tr>\n",
       "    <tr>\n",
       "      <th>12</th>\n",
       "      <td>연합뉴스</td>\n",
       "      <td>22</td>\n",
       "      <td>22</td>\n",
       "      <td>1029</td>\n",
       "      <td>0.778426</td>\n",
       "    </tr>\n",
       "    <tr>\n",
       "      <th>13</th>\n",
       "      <td>중앙일보</td>\n",
       "      <td>2</td>\n",
       "      <td>4</td>\n",
       "      <td>231</td>\n",
       "      <td>0.796537</td>\n",
       "    </tr>\n",
       "    <tr>\n",
       "      <th>14</th>\n",
       "      <td>코리아중앙데일리</td>\n",
       "      <td>8</td>\n",
       "      <td>11</td>\n",
       "      <td>61</td>\n",
       "      <td>0.868852</td>\n",
       "    </tr>\n",
       "  </tbody>\n",
       "</table>\n",
       "</div>"
      ],
      "text/plain": [
       "   writerName  content_na_tag_1  content_na  total_cnt     ratio\n",
       "0         KBS                 0           2        207  0.000000\n",
       "1        강원일보                 0           1         48  0.000000\n",
       "2        경향신문                 0           3        161  0.677019\n",
       "3         뉴스1                27          29        783  0.699872\n",
       "4        대전일보                 0           1         53  0.000000\n",
       "5      디지털타임스                 0           1         89  0.011236\n",
       "6        매일경제                 0           5        240  0.029167\n",
       "7        매일신문                 0           1         63  0.000000\n",
       "8        부산일보                 0           1         38  0.000000\n",
       "9        세계일보                 0           6         77  0.000000\n",
       "10      아시아경제                12          12        349  0.667622\n",
       "11     아이뉴스24                 3           3         99  0.151515\n",
       "12       연합뉴스                22          22       1029  0.778426\n",
       "13       중앙일보                 2           4        231  0.796537\n",
       "14   코리아중앙데일리                 8          11         61  0.868852"
      ]
     },
     "execution_count": 15,
     "metadata": {},
     "output_type": "execute_result"
    }
   ],
   "source": [
    "temp = df_content_na[['writerName', 'tag']].groupby('writerName', as_index=False).sum() # content가 NA인 것 중 tag가 1인 개수\n",
    "temp.rename(columns={'tag':'content_na_tag_1'}, inplace=True)\n",
    "\n",
    "temp['content_na'] = df_content_na[['writerName', 'tag']].groupby('writerName', as_index=False).count()['tag'] # content가 NA인 개수\n",
    "\n",
    "temp = pd.merge(temp, df_writer[['writerName', 'total_cnt', 'ratio']], how='left', on='writerName') # writerName 기준으로 total_cnt merge\n",
    "temp"
   ]
  },
  {
   "attachments": {},
   "cell_type": "markdown",
   "metadata": {},
   "source": [
    "- 작성한 전체 기사 개수 대비 content가 NA인 기사의 개수가 현저히 적다\n",
    "- content가 없는 것과 tag가 1인 것과는 큰 상관관계는 없어보인다. 오히려 신문사가 선호하는 주제와 더 상관관계가 있는 듯"
   ]
  },
  {
   "attachments": {},
   "cell_type": "markdown",
   "metadata": {},
   "source": [
    "### Title"
   ]
  },
  {
   "cell_type": "code",
   "execution_count": 16,
   "metadata": {},
   "outputs": [
    {
     "data": {
      "text/plain": [
       "[('안녕', 'NNG'), ('하', 'XSV'), ('세요', 'EP+EF')]"
      ]
     },
     "execution_count": 16,
     "metadata": {},
     "output_type": "execute_result"
    }
   ],
   "source": [
    "from eunjeon import Mecab\n",
    "\n",
    "mecab = Mecab()\n",
    "mecab.pos('안녕하세요')"
   ]
  },
  {
   "cell_type": "code",
   "execution_count": 17,
   "metadata": {},
   "outputs": [
    {
     "name": "stdout",
     "output_type": "stream",
     "text": [
      "정부, AI반도체 석·박사 집중 육성… 대학당 '6년간 164억원' 지원\n"
     ]
    },
    {
     "data": {
      "text/plain": [
       "['정부', '반도체', '석', '박사', '집중', '육성', '대학당', '년', '간', '억', '원', '지원']"
      ]
     },
     "execution_count": 17,
     "metadata": {},
     "output_type": "execute_result"
    }
   ],
   "source": [
    "print(df['title'][0])\n",
    "mecab.nouns(df['title'][0])"
   ]
  },
  {
   "cell_type": "code",
   "execution_count": 18,
   "metadata": {},
   "outputs": [
    {
     "data": {
      "text/html": [
       "<div>\n",
       "<style scoped>\n",
       "    .dataframe tbody tr th:only-of-type {\n",
       "        vertical-align: middle;\n",
       "    }\n",
       "\n",
       "    .dataframe tbody tr th {\n",
       "        vertical-align: top;\n",
       "    }\n",
       "\n",
       "    .dataframe thead th {\n",
       "        text-align: right;\n",
       "    }\n",
       "</style>\n",
       "<table border=\"1\" class=\"dataframe\">\n",
       "  <thead>\n",
       "    <tr style=\"text-align: right;\">\n",
       "      <th></th>\n",
       "      <th>docID</th>\n",
       "      <th>date</th>\n",
       "      <th>writerName</th>\n",
       "      <th>title</th>\n",
       "      <th>content</th>\n",
       "      <th>tag</th>\n",
       "      <th>nouns</th>\n",
       "    </tr>\n",
       "  </thead>\n",
       "  <tbody>\n",
       "    <tr>\n",
       "      <th>0</th>\n",
       "      <td>1</td>\n",
       "      <td>20230214</td>\n",
       "      <td>머니S</td>\n",
       "      <td>정부, AI반도체 석·박사 집중 육성… 대학당 '6년간 164억원' 지원</td>\n",
       "      <td>정부가 미국 AI 개발업체인 '오픈AI'(OpenAI)의 '챗GPT'(ChatGPT...</td>\n",
       "      <td>0</td>\n",
       "      <td>[간, 년, 대학당, 박사, 반도체, 석, 억, 원, 육성, 정부, 지원, 집중]</td>\n",
       "    </tr>\n",
       "    <tr>\n",
       "      <th>1</th>\n",
       "      <td>2</td>\n",
       "      <td>20230215</td>\n",
       "      <td>뉴시스</td>\n",
       "      <td>인사 청탁 대가 금품수수 의혹 전 소방청장 영장 기각</td>\n",
       "      <td>기사내용 요약 법원 \"피의 사실 일부 다툼 여지, 불구속 상태 방어권 보장 필요\" ...</td>\n",
       "      <td>0</td>\n",
       "      <td>[금품, 기각, 대가, 소방, 수수, 영장, 의혹, 인사, 전, 청장, 청탁]</td>\n",
       "    </tr>\n",
       "    <tr>\n",
       "      <th>2</th>\n",
       "      <td>3</td>\n",
       "      <td>20230214</td>\n",
       "      <td>아이뉴스24</td>\n",
       "      <td>튀르키예 강진에 우리나라 지하수가 출렁였다</td>\n",
       "      <td>튀르키예에서 발생한 강진에 우리나라의 지하수가 출렁였다는 관측 보고가 나왔다. 한국...</td>\n",
       "      <td>0</td>\n",
       "      <td>[강진, 나라, 예, 우리, 지하수, 키, 튀르]</td>\n",
       "    </tr>\n",
       "    <tr>\n",
       "      <th>3</th>\n",
       "      <td>4</td>\n",
       "      <td>20230215</td>\n",
       "      <td>데일리안</td>\n",
       "      <td>멸치쇼핑, 2023년 신입 및 경력 사원 대규모 공채 진행</td>\n",
       "      <td>[데일리안 = 박영민 기자] 오픈마켓 멸치쇼핑이 2023년 신입 및 경력 사원을 대...</td>\n",
       "      <td>0</td>\n",
       "      <td>[경력, 공채, 규모, 년, 멸치, 사원, 쇼핑, 신입, 진행]</td>\n",
       "    </tr>\n",
       "    <tr>\n",
       "      <th>4</th>\n",
       "      <td>5</td>\n",
       "      <td>20230111</td>\n",
       "      <td>뉴스1</td>\n",
       "      <td>美국방부, 추모의 벽 전사자 명단 오류에 \"유감스러운 실수\"</td>\n",
       "      <td>국방부 대변인 \"실수 바로잡기 위해 내무부와 협력\"…'오류 발견' 가족 등에 연락 ...</td>\n",
       "      <td>1</td>\n",
       "      <td>[美, 국방부, 명단, 벽, 실수, 오류, 유감, 전사자, 추모]</td>\n",
       "    </tr>\n",
       "    <tr>\n",
       "      <th>...</th>\n",
       "      <td>...</td>\n",
       "      <td>...</td>\n",
       "      <td>...</td>\n",
       "      <td>...</td>\n",
       "      <td>...</td>\n",
       "      <td>...</td>\n",
       "      <td>...</td>\n",
       "    </tr>\n",
       "    <tr>\n",
       "      <th>7995</th>\n",
       "      <td>7996</td>\n",
       "      <td>20230104</td>\n",
       "      <td>이데일리</td>\n",
       "      <td>외교부, 오는 12일 日강제징용 해법 토론회 연다</td>\n",
       "      <td>국회서 한일의원연맹과 공동 개최 [이데일리 권오석 기자] 외교부가 오는 12일 일제...</td>\n",
       "      <td>1</td>\n",
       "      <td>[日, 강제, 외교부, 일, 징용, 토론회, 해법]</td>\n",
       "    </tr>\n",
       "    <tr>\n",
       "      <th>7996</th>\n",
       "      <td>7997</td>\n",
       "      <td>20230215</td>\n",
       "      <td>아시아경제</td>\n",
       "      <td>교원단체, '유치원' 명칭은 일제 잔재…'유아학교'로 변경해야</td>\n",
       "      <td>교육부가 2025년부터 유치원과 어린이집을 하나로 통합하겠다는 계획을 밝힌 가운데 ...</td>\n",
       "      <td>0</td>\n",
       "      <td>[교원, 단체, 명칭, 변경, 유아, 유치원, 일제, 잔재, 학교]</td>\n",
       "    </tr>\n",
       "    <tr>\n",
       "      <th>7997</th>\n",
       "      <td>7998</td>\n",
       "      <td>20230212</td>\n",
       "      <td>뉴스1</td>\n",
       "      <td>내일 한일외교차관회담… '강제동원 해법' 이견 좁힐까</td>\n",
       "      <td>13일 워싱턴 한미일 차관협의회 계기 양자회담 예정 日 '사죄·배상' 방식 쟁점… ...</td>\n",
       "      <td>1</td>\n",
       "      <td>[강제, 동원, 외교, 이견, 일, 차관, 해법, 회담]</td>\n",
       "    </tr>\n",
       "    <tr>\n",
       "      <th>7998</th>\n",
       "      <td>7999</td>\n",
       "      <td>20230214</td>\n",
       "      <td>매일경제</td>\n",
       "      <td>최상호 국립오페라단 단장</td>\n",
       "      <td>문화체육관광부가 재단법인 국립오페라단 단장 겸 예술감독에 최상호 한국예술종합학교 음...</td>\n",
       "      <td>0</td>\n",
       "      <td>[국립오페라단, 단장, 최상호]</td>\n",
       "    </tr>\n",
       "    <tr>\n",
       "      <th>7999</th>\n",
       "      <td>8000</td>\n",
       "      <td>20230214</td>\n",
       "      <td>스포츠서울</td>\n",
       "      <td>이통통신 3사, 갤럭시 S23 시리즈 사전 개통 시작…'구매 꿀팁은?'</td>\n",
       "      <td>[스포츠서울 | 황철훈기자] 통신 3사가 14일부터 삼성전자 플래그십 스마트폰 ‘갤...</td>\n",
       "      <td>0</td>\n",
       "      <td>[개통, 갤럭시, 구매, 사, 사전, 시리즈, 시작, 이통, 통신, 팁]</td>\n",
       "    </tr>\n",
       "  </tbody>\n",
       "</table>\n",
       "<p>8000 rows × 7 columns</p>\n",
       "</div>"
      ],
      "text/plain": [
       "      docID      date writerName                                     title  \\\n",
       "0         1  20230214        머니S  정부, AI반도체 석·박사 집중 육성… 대학당 '6년간 164억원' 지원   \n",
       "1         2  20230215        뉴시스             인사 청탁 대가 금품수수 의혹 전 소방청장 영장 기각   \n",
       "2         3  20230214     아이뉴스24                   튀르키예 강진에 우리나라 지하수가 출렁였다   \n",
       "3         4  20230215       데일리안          멸치쇼핑, 2023년 신입 및 경력 사원 대규모 공채 진행   \n",
       "4         5  20230111        뉴스1         美국방부, 추모의 벽 전사자 명단 오류에 \"유감스러운 실수\"   \n",
       "...     ...       ...        ...                                       ...   \n",
       "7995   7996  20230104       이데일리               외교부, 오는 12일 日강제징용 해법 토론회 연다   \n",
       "7996   7997  20230215      아시아경제        교원단체, '유치원' 명칭은 일제 잔재…'유아학교'로 변경해야   \n",
       "7997   7998  20230212        뉴스1             내일 한일외교차관회담… '강제동원 해법' 이견 좁힐까   \n",
       "7998   7999  20230214       매일경제                             최상호 국립오페라단 단장   \n",
       "7999   8000  20230214      스포츠서울   이통통신 3사, 갤럭시 S23 시리즈 사전 개통 시작…'구매 꿀팁은?'   \n",
       "\n",
       "                                                content  tag  \\\n",
       "0     정부가 미국 AI 개발업체인 '오픈AI'(OpenAI)의 '챗GPT'(ChatGPT...    0   \n",
       "1     기사내용 요약 법원 \"피의 사실 일부 다툼 여지, 불구속 상태 방어권 보장 필요\" ...    0   \n",
       "2     튀르키예에서 발생한 강진에 우리나라의 지하수가 출렁였다는 관측 보고가 나왔다. 한국...    0   \n",
       "3     [데일리안 = 박영민 기자] 오픈마켓 멸치쇼핑이 2023년 신입 및 경력 사원을 대...    0   \n",
       "4     국방부 대변인 \"실수 바로잡기 위해 내무부와 협력\"…'오류 발견' 가족 등에 연락 ...    1   \n",
       "...                                                 ...  ...   \n",
       "7995  국회서 한일의원연맹과 공동 개최 [이데일리 권오석 기자] 외교부가 오는 12일 일제...    1   \n",
       "7996  교육부가 2025년부터 유치원과 어린이집을 하나로 통합하겠다는 계획을 밝힌 가운데 ...    0   \n",
       "7997  13일 워싱턴 한미일 차관협의회 계기 양자회담 예정 日 '사죄·배상' 방식 쟁점… ...    1   \n",
       "7998  문화체육관광부가 재단법인 국립오페라단 단장 겸 예술감독에 최상호 한국예술종합학교 음...    0   \n",
       "7999  [스포츠서울 | 황철훈기자] 통신 3사가 14일부터 삼성전자 플래그십 스마트폰 ‘갤...    0   \n",
       "\n",
       "                                              nouns  \n",
       "0     [간, 년, 대학당, 박사, 반도체, 석, 억, 원, 육성, 정부, 지원, 집중]  \n",
       "1       [금품, 기각, 대가, 소방, 수수, 영장, 의혹, 인사, 전, 청장, 청탁]  \n",
       "2                       [강진, 나라, 예, 우리, 지하수, 키, 튀르]  \n",
       "3               [경력, 공채, 규모, 년, 멸치, 사원, 쇼핑, 신입, 진행]  \n",
       "4              [美, 국방부, 명단, 벽, 실수, 오류, 유감, 전사자, 추모]  \n",
       "...                                             ...  \n",
       "7995                   [日, 강제, 외교부, 일, 징용, 토론회, 해법]  \n",
       "7996          [교원, 단체, 명칭, 변경, 유아, 유치원, 일제, 잔재, 학교]  \n",
       "7997                [강제, 동원, 외교, 이견, 일, 차관, 해법, 회담]  \n",
       "7998                              [국립오페라단, 단장, 최상호]  \n",
       "7999       [개통, 갤럭시, 구매, 사, 사전, 시리즈, 시작, 이통, 통신, 팁]  \n",
       "\n",
       "[8000 rows x 7 columns]"
      ]
     },
     "metadata": {},
     "output_type": "display_data"
    }
   ],
   "source": [
    "df2 = df.copy()\n",
    "df2['nouns'] = df2['title'].apply(lambda x: sorted(mecab.nouns(x))) # 제목에서 명사만 추출하여 리스트로 저장\n",
    "display(df2)"
   ]
  },
  {
   "cell_type": "code",
   "execution_count": 19,
   "metadata": {},
   "outputs": [],
   "source": [
    "df2_0 = df2[df2['tag']==0] # df2에서 tag == 0인 dataframe\n",
    "df2_1 = df2[df2['tag']==1] # df2에서 tag == 1인 dataframe\n"
   ]
  },
  {
   "cell_type": "code",
   "execution_count": 20,
   "metadata": {},
   "outputs": [
    {
     "data": {
      "text/plain": [
       "년    293\n",
       "원    285\n",
       "만    251\n",
       "억    242\n",
       "일    189\n",
       "dtype: int64"
      ]
     },
     "execution_count": 20,
     "metadata": {},
     "output_type": "execute_result"
    }
   ],
   "source": [
    "import itertools\n",
    "\n",
    "list_nouns_0= list(itertools.chain(*list(df2_0['nouns'])))\n",
    "df_nouns_0 = pd.DataFrame(list_nouns_0).value_counts()\n",
    "df_nouns_0.head()"
   ]
  },
  {
   "cell_type": "code",
   "execution_count": 21,
   "metadata": {},
   "outputs": [
    {
     "data": {
      "text/html": [
       "<div>\n",
       "<style scoped>\n",
       "    .dataframe tbody tr th:only-of-type {\n",
       "        vertical-align: middle;\n",
       "    }\n",
       "\n",
       "    .dataframe tbody tr th {\n",
       "        vertical-align: top;\n",
       "    }\n",
       "\n",
       "    .dataframe thead th {\n",
       "        text-align: right;\n",
       "    }\n",
       "</style>\n",
       "<table border=\"1\" class=\"dataframe\">\n",
       "  <thead>\n",
       "    <tr style=\"text-align: right;\">\n",
       "      <th></th>\n",
       "      <th>nouns</th>\n",
       "      <th>cnt</th>\n",
       "    </tr>\n",
       "  </thead>\n",
       "  <tbody>\n",
       "    <tr>\n",
       "      <th>0</th>\n",
       "      <td>北</td>\n",
       "      <td>374</td>\n",
       "    </tr>\n",
       "    <tr>\n",
       "      <th>1</th>\n",
       "      <td>장관</td>\n",
       "      <td>254</td>\n",
       "    </tr>\n",
       "    <tr>\n",
       "      <th>2</th>\n",
       "      <td>美</td>\n",
       "      <td>246</td>\n",
       "    </tr>\n",
       "    <tr>\n",
       "      <th>3</th>\n",
       "      <td>일</td>\n",
       "      <td>240</td>\n",
       "    </tr>\n",
       "    <tr>\n",
       "      <th>4</th>\n",
       "      <td>미</td>\n",
       "      <td>217</td>\n",
       "    </tr>\n",
       "  </tbody>\n",
       "</table>\n",
       "</div>"
      ],
      "text/plain": [
       "  nouns  cnt\n",
       "0     北  374\n",
       "1    장관  254\n",
       "2     美  246\n",
       "3     일  240\n",
       "4     미  217"
      ]
     },
     "execution_count": 21,
     "metadata": {},
     "output_type": "execute_result"
    }
   ],
   "source": [
    "list_nouns_1= list(itertools.chain(*list(df2_1['nouns'])))\n",
    "df_nouns_1 = pd.DataFrame(list_nouns_1).value_counts().rename_axis('nouns').reset_index(name='cnt')\n",
    "\n",
    "df_nouns_1.head()"
   ]
  },
  {
   "cell_type": "code",
   "execution_count": 22,
   "metadata": {},
   "outputs": [
    {
     "name": "stdout",
     "output_type": "stream",
     "text": [
      "tag==0 인 경우, 명사 개수 :  8039\n",
      "tag==0 인 경우, 명사 개수 :  4576\n",
      "위 두 개 교집합 개수 :  2427\n",
      "tag 1 - tag 0 명사 :  2149\n"
     ]
    }
   ],
   "source": [
    "print('tag==0 인 경우, 명사 개수 : ', len(set(list_nouns_0)))\n",
    "print('tag==0 인 경우, 명사 개수 : ', len(set(list_nouns_1)))\n",
    "print('위 두 개 교집합 개수 : ', len(set(list_nouns_0) & set(list_nouns_1)))\n",
    "\n",
    "diff_nouns = list(set(list_nouns_1) - set(list_nouns_0)) # 차집합(set1-set0)\n",
    "diff_nouns.sort()\n",
    "print('tag 1 - tag 0 명사 : ', len(diff_nouns))"
   ]
  },
  {
   "cell_type": "code",
   "execution_count": 23,
   "metadata": {},
   "outputs": [],
   "source": [
    "diff_nouns = pd.DataFrame({'nouns':diff_nouns})"
   ]
  },
  {
   "cell_type": "code",
   "execution_count": 24,
   "metadata": {},
   "outputs": [
    {
     "data": {
      "text/html": [
       "<div>\n",
       "<style scoped>\n",
       "    .dataframe tbody tr th:only-of-type {\n",
       "        vertical-align: middle;\n",
       "    }\n",
       "\n",
       "    .dataframe tbody tr th {\n",
       "        vertical-align: top;\n",
       "    }\n",
       "\n",
       "    .dataframe thead th {\n",
       "        text-align: right;\n",
       "    }\n",
       "</style>\n",
       "<table border=\"1\" class=\"dataframe\">\n",
       "  <thead>\n",
       "    <tr style=\"text-align: right;\">\n",
       "      <th></th>\n",
       "      <th>nouns</th>\n",
       "      <th>cnt</th>\n",
       "    </tr>\n",
       "  </thead>\n",
       "  <tbody>\n",
       "    <tr>\n",
       "      <th>625</th>\n",
       "      <td>무인기</td>\n",
       "      <td>169</td>\n",
       "    </tr>\n",
       "    <tr>\n",
       "      <th>2035</th>\n",
       "      <td>핵</td>\n",
       "      <td>152</td>\n",
       "    </tr>\n",
       "    <tr>\n",
       "      <th>698</th>\n",
       "      <td>박진</td>\n",
       "      <td>149</td>\n",
       "    </tr>\n",
       "    <tr>\n",
       "      <th>1299</th>\n",
       "      <td>외교부</td>\n",
       "      <td>133</td>\n",
       "    </tr>\n",
       "    <tr>\n",
       "      <th>1715</th>\n",
       "      <td>징용</td>\n",
       "      <td>81</td>\n",
       "    </tr>\n",
       "    <tr>\n",
       "      <th>...</th>\n",
       "      <td>...</td>\n",
       "      <td>...</td>\n",
       "    </tr>\n",
       "    <tr>\n",
       "      <th>872</th>\n",
       "      <td>비시</td>\n",
       "      <td>1</td>\n",
       "    </tr>\n",
       "    <tr>\n",
       "      <th>871</th>\n",
       "      <td>비스</td>\n",
       "      <td>1</td>\n",
       "    </tr>\n",
       "    <tr>\n",
       "      <th>870</th>\n",
       "      <td>비서실</td>\n",
       "      <td>1</td>\n",
       "    </tr>\n",
       "    <tr>\n",
       "      <th>868</th>\n",
       "      <td>비서</td>\n",
       "      <td>1</td>\n",
       "    </tr>\n",
       "    <tr>\n",
       "      <th>2148</th>\n",
       "      <td>李</td>\n",
       "      <td>1</td>\n",
       "    </tr>\n",
       "  </tbody>\n",
       "</table>\n",
       "<p>2149 rows × 2 columns</p>\n",
       "</div>"
      ],
      "text/plain": [
       "     nouns  cnt\n",
       "625    무인기  169\n",
       "2035     핵  152\n",
       "698     박진  149\n",
       "1299   외교부  133\n",
       "1715    징용   81\n",
       "...    ...  ...\n",
       "872     비시    1\n",
       "871     비스    1\n",
       "870    비서실    1\n",
       "868     비서    1\n",
       "2148     李    1\n",
       "\n",
       "[2149 rows x 2 columns]"
      ]
     },
     "execution_count": 24,
     "metadata": {},
     "output_type": "execute_result"
    }
   ],
   "source": [
    "df_nouns = pd.merge(diff_nouns, df_nouns_1)\n",
    "df_nouns.sort_values(by='cnt', ascending=False, inplace=True)\n",
    "df_nouns"
   ]
  },
  {
   "cell_type": "code",
   "execution_count": 25,
   "metadata": {},
   "outputs": [
    {
     "data": {
      "text/plain": [
       "<AxesSubplot:xlabel='cnt', ylabel='Count'>"
      ]
     },
     "execution_count": 25,
     "metadata": {},
     "output_type": "execute_result"
    },
    {
     "data": {
      "image/png": "[encoded data removed]",
      "text/plain": [
       "<Figure size 640x480 with 1 Axes>"
      ]
     },
     "metadata": {},
     "output_type": "display_data"
    }
   ],
   "source": [
    "sns.histplot(data=df_nouns, x='cnt')"
   ]
  },
  {
   "cell_type": "code",
   "execution_count": 26,
   "metadata": {},
   "outputs": [
    {
     "data": {
      "text/plain": [
       "2.0"
      ]
     },
     "execution_count": 26,
     "metadata": {},
     "output_type": "execute_result"
    }
   ],
   "source": [
    "df_nouns['cnt'].quantile(q=0.70)"
   ]
  },
  {
   "cell_type": "code",
   "execution_count": 27,
   "metadata": {},
   "outputs": [
    {
     "data": {
      "text/plain": [
       "5.0"
      ]
     },
     "execution_count": 27,
     "metadata": {},
     "output_type": "execute_result"
    }
   ],
   "source": [
    "df_nouns['cnt'].quantile(q=0.9)"
   ]
  },
  {
   "cell_type": "code",
   "execution_count": 28,
   "metadata": {},
   "outputs": [
    {
     "data": {
      "text/plain": [
       "0.7664029781293625"
      ]
     },
     "execution_count": 28,
     "metadata": {},
     "output_type": "execute_result"
    }
   ],
   "source": [
    "len(df_nouns[df_nouns['cnt']<=2]) / len(df_nouns)"
   ]
  },
  {
   "attachments": {},
   "cell_type": "markdown",
   "metadata": {},
   "source": [
    "- cnt가 2개 이하인 단어가 전체의 70퍼센트..\n",
    "- 상위 10퍼 정도로만 단어집합을 만들어야할지 숫자에 대한 논의가 있어야할지..\n",
    "- 이건 단순히 train set에 한정된 경우라서 과적합 문제가 있을 수도 있다. 아예 버려야할 set이 될지도"
   ]
  },
  {
   "cell_type": "code",
   "execution_count": 29,
   "metadata": {},
   "outputs": [],
   "source": [
    "keywords = df_nouns[df_nouns['cnt'] > 5]['nouns'] #우선은 상위 10퍼센트의 단어들만 저장\n",
    "keywords.to_csv('keywords.txt', index=False)"
   ]
  },
  {
   "cell_type": "code",
   "execution_count": 30,
   "metadata": {},
   "outputs": [
    {
     "data": {
      "text/html": [
       "<div>\n",
       "<style scoped>\n",
       "    .dataframe tbody tr th:only-of-type {\n",
       "        vertical-align: middle;\n",
       "    }\n",
       "\n",
       "    .dataframe tbody tr th {\n",
       "        vertical-align: top;\n",
       "    }\n",
       "\n",
       "    .dataframe thead th {\n",
       "        text-align: right;\n",
       "    }\n",
       "</style>\n",
       "<table border=\"1\" class=\"dataframe\">\n",
       "  <thead>\n",
       "    <tr style=\"text-align: right;\">\n",
       "      <th></th>\n",
       "      <th>docID</th>\n",
       "      <th>date</th>\n",
       "      <th>writerName</th>\n",
       "      <th>title</th>\n",
       "      <th>content</th>\n",
       "      <th>tag</th>\n",
       "      <th>nouns</th>\n",
       "      <th>contain_keywords</th>\n",
       "    </tr>\n",
       "  </thead>\n",
       "  <tbody>\n",
       "    <tr>\n",
       "      <th>0</th>\n",
       "      <td>1</td>\n",
       "      <td>20230214</td>\n",
       "      <td>머니S</td>\n",
       "      <td>정부, AI반도체 석·박사 집중 육성… 대학당 '6년간 164억원' 지원</td>\n",
       "      <td>정부가 미국 AI 개발업체인 '오픈AI'(OpenAI)의 '챗GPT'(ChatGPT...</td>\n",
       "      <td>0</td>\n",
       "      <td>{원, 석, 육성, 반도체, 지원, 정부, 억, 간, 집중, 박사, 년, 대학당}</td>\n",
       "      <td>0</td>\n",
       "    </tr>\n",
       "    <tr>\n",
       "      <th>1</th>\n",
       "      <td>2</td>\n",
       "      <td>20230215</td>\n",
       "      <td>뉴시스</td>\n",
       "      <td>인사 청탁 대가 금품수수 의혹 전 소방청장 영장 기각</td>\n",
       "      <td>기사내용 요약 법원 \"피의 사실 일부 다툼 여지, 불구속 상태 방어권 보장 필요\" ...</td>\n",
       "      <td>0</td>\n",
       "      <td>{대가, 소방, 청탁, 전, 금품, 인사, 영장, 의혹, 청장, 수수, 기각}</td>\n",
       "      <td>0</td>\n",
       "    </tr>\n",
       "    <tr>\n",
       "      <th>2</th>\n",
       "      <td>3</td>\n",
       "      <td>20230214</td>\n",
       "      <td>아이뉴스24</td>\n",
       "      <td>튀르키예 강진에 우리나라 지하수가 출렁였다</td>\n",
       "      <td>튀르키예에서 발생한 강진에 우리나라의 지하수가 출렁였다는 관측 보고가 나왔다. 한국...</td>\n",
       "      <td>0</td>\n",
       "      <td>{우리, 예, 강진, 지하수, 나라, 키, 튀르}</td>\n",
       "      <td>0</td>\n",
       "    </tr>\n",
       "    <tr>\n",
       "      <th>3</th>\n",
       "      <td>4</td>\n",
       "      <td>20230215</td>\n",
       "      <td>데일리안</td>\n",
       "      <td>멸치쇼핑, 2023년 신입 및 경력 사원 대규모 공채 진행</td>\n",
       "      <td>[데일리안 = 박영민 기자] 오픈마켓 멸치쇼핑이 2023년 신입 및 경력 사원을 대...</td>\n",
       "      <td>0</td>\n",
       "      <td>{공채, 신입, 진행, 사원, 멸치, 경력, 년, 규모, 쇼핑}</td>\n",
       "      <td>0</td>\n",
       "    </tr>\n",
       "    <tr>\n",
       "      <th>4</th>\n",
       "      <td>5</td>\n",
       "      <td>20230111</td>\n",
       "      <td>뉴스1</td>\n",
       "      <td>美국방부, 추모의 벽 전사자 명단 오류에 \"유감스러운 실수\"</td>\n",
       "      <td>국방부 대변인 \"실수 바로잡기 위해 내무부와 협력\"…'오류 발견' 가족 등에 연락 ...</td>\n",
       "      <td>1</td>\n",
       "      <td>{美, 유감, 명단, 벽, 전사자, 추모, 실수, 오류, 국방부}</td>\n",
       "      <td>1</td>\n",
       "    </tr>\n",
       "    <tr>\n",
       "      <th>...</th>\n",
       "      <td>...</td>\n",
       "      <td>...</td>\n",
       "      <td>...</td>\n",
       "      <td>...</td>\n",
       "      <td>...</td>\n",
       "      <td>...</td>\n",
       "      <td>...</td>\n",
       "      <td>...</td>\n",
       "    </tr>\n",
       "    <tr>\n",
       "      <th>7995</th>\n",
       "      <td>7996</td>\n",
       "      <td>20230104</td>\n",
       "      <td>이데일리</td>\n",
       "      <td>외교부, 오는 12일 日강제징용 해법 토론회 연다</td>\n",
       "      <td>국회서 한일의원연맹과 공동 개최 [이데일리 권오석 기자] 외교부가 오는 12일 일제...</td>\n",
       "      <td>1</td>\n",
       "      <td>{징용, 일, 해법, 日, 강제, 외교부, 토론회}</td>\n",
       "      <td>1</td>\n",
       "    </tr>\n",
       "    <tr>\n",
       "      <th>7996</th>\n",
       "      <td>7997</td>\n",
       "      <td>20230215</td>\n",
       "      <td>아시아경제</td>\n",
       "      <td>교원단체, '유치원' 명칭은 일제 잔재…'유아학교'로 변경해야</td>\n",
       "      <td>교육부가 2025년부터 유치원과 어린이집을 하나로 통합하겠다는 계획을 밝힌 가운데 ...</td>\n",
       "      <td>0</td>\n",
       "      <td>{유치원, 변경, 명칭, 유아, 일제, 잔재, 교원, 단체, 학교}</td>\n",
       "      <td>0</td>\n",
       "    </tr>\n",
       "    <tr>\n",
       "      <th>7997</th>\n",
       "      <td>7998</td>\n",
       "      <td>20230212</td>\n",
       "      <td>뉴스1</td>\n",
       "      <td>내일 한일외교차관회담… '강제동원 해법' 이견 좁힐까</td>\n",
       "      <td>13일 워싱턴 한미일 차관협의회 계기 양자회담 예정 日 '사죄·배상' 방식 쟁점… ...</td>\n",
       "      <td>1</td>\n",
       "      <td>{일, 해법, 차관, 이견, 강제, 동원, 회담, 외교}</td>\n",
       "      <td>1</td>\n",
       "    </tr>\n",
       "    <tr>\n",
       "      <th>7998</th>\n",
       "      <td>7999</td>\n",
       "      <td>20230214</td>\n",
       "      <td>매일경제</td>\n",
       "      <td>최상호 국립오페라단 단장</td>\n",
       "      <td>문화체육관광부가 재단법인 국립오페라단 단장 겸 예술감독에 최상호 한국예술종합학교 음...</td>\n",
       "      <td>0</td>\n",
       "      <td>{국립오페라단, 최상호, 단장}</td>\n",
       "      <td>0</td>\n",
       "    </tr>\n",
       "    <tr>\n",
       "      <th>7999</th>\n",
       "      <td>8000</td>\n",
       "      <td>20230214</td>\n",
       "      <td>스포츠서울</td>\n",
       "      <td>이통통신 3사, 갤럭시 S23 시리즈 사전 개통 시작…'구매 꿀팁은?'</td>\n",
       "      <td>[스포츠서울 | 황철훈기자] 통신 3사가 14일부터 삼성전자 플래그십 스마트폰 ‘갤...</td>\n",
       "      <td>0</td>\n",
       "      <td>{갤럭시, 사, 사전, 이통, 통신, 개통, 팁, 시리즈, 구매, 시작}</td>\n",
       "      <td>0</td>\n",
       "    </tr>\n",
       "  </tbody>\n",
       "</table>\n",
       "<p>8000 rows × 8 columns</p>\n",
       "</div>"
      ],
      "text/plain": [
       "      docID      date writerName                                     title  \\\n",
       "0         1  20230214        머니S  정부, AI반도체 석·박사 집중 육성… 대학당 '6년간 164억원' 지원   \n",
       "1         2  20230215        뉴시스             인사 청탁 대가 금품수수 의혹 전 소방청장 영장 기각   \n",
       "2         3  20230214     아이뉴스24                   튀르키예 강진에 우리나라 지하수가 출렁였다   \n",
       "3         4  20230215       데일리안          멸치쇼핑, 2023년 신입 및 경력 사원 대규모 공채 진행   \n",
       "4         5  20230111        뉴스1         美국방부, 추모의 벽 전사자 명단 오류에 \"유감스러운 실수\"   \n",
       "...     ...       ...        ...                                       ...   \n",
       "7995   7996  20230104       이데일리               외교부, 오는 12일 日강제징용 해법 토론회 연다   \n",
       "7996   7997  20230215      아시아경제        교원단체, '유치원' 명칭은 일제 잔재…'유아학교'로 변경해야   \n",
       "7997   7998  20230212        뉴스1             내일 한일외교차관회담… '강제동원 해법' 이견 좁힐까   \n",
       "7998   7999  20230214       매일경제                             최상호 국립오페라단 단장   \n",
       "7999   8000  20230214      스포츠서울   이통통신 3사, 갤럭시 S23 시리즈 사전 개통 시작…'구매 꿀팁은?'   \n",
       "\n",
       "                                                content  tag  \\\n",
       "0     정부가 미국 AI 개발업체인 '오픈AI'(OpenAI)의 '챗GPT'(ChatGPT...    0   \n",
       "1     기사내용 요약 법원 \"피의 사실 일부 다툼 여지, 불구속 상태 방어권 보장 필요\" ...    0   \n",
       "2     튀르키예에서 발생한 강진에 우리나라의 지하수가 출렁였다는 관측 보고가 나왔다. 한국...    0   \n",
       "3     [데일리안 = 박영민 기자] 오픈마켓 멸치쇼핑이 2023년 신입 및 경력 사원을 대...    0   \n",
       "4     국방부 대변인 \"실수 바로잡기 위해 내무부와 협력\"…'오류 발견' 가족 등에 연락 ...    1   \n",
       "...                                                 ...  ...   \n",
       "7995  국회서 한일의원연맹과 공동 개최 [이데일리 권오석 기자] 외교부가 오는 12일 일제...    1   \n",
       "7996  교육부가 2025년부터 유치원과 어린이집을 하나로 통합하겠다는 계획을 밝힌 가운데 ...    0   \n",
       "7997  13일 워싱턴 한미일 차관협의회 계기 양자회담 예정 日 '사죄·배상' 방식 쟁점… ...    1   \n",
       "7998  문화체육관광부가 재단법인 국립오페라단 단장 겸 예술감독에 최상호 한국예술종합학교 음...    0   \n",
       "7999  [스포츠서울 | 황철훈기자] 통신 3사가 14일부터 삼성전자 플래그십 스마트폰 ‘갤...    0   \n",
       "\n",
       "                                              nouns  contain_keywords  \n",
       "0     {원, 석, 육성, 반도체, 지원, 정부, 억, 간, 집중, 박사, 년, 대학당}                 0  \n",
       "1       {대가, 소방, 청탁, 전, 금품, 인사, 영장, 의혹, 청장, 수수, 기각}                 0  \n",
       "2                       {우리, 예, 강진, 지하수, 나라, 키, 튀르}                 0  \n",
       "3               {공채, 신입, 진행, 사원, 멸치, 경력, 년, 규모, 쇼핑}                 0  \n",
       "4              {美, 유감, 명단, 벽, 전사자, 추모, 실수, 오류, 국방부}                 1  \n",
       "...                                             ...               ...  \n",
       "7995                   {징용, 일, 해법, 日, 강제, 외교부, 토론회}                 1  \n",
       "7996          {유치원, 변경, 명칭, 유아, 일제, 잔재, 교원, 단체, 학교}                 0  \n",
       "7997                {일, 해법, 차관, 이견, 강제, 동원, 회담, 외교}                 1  \n",
       "7998                              {국립오페라단, 최상호, 단장}                 0  \n",
       "7999       {갤럭시, 사, 사전, 이통, 통신, 개통, 팁, 시리즈, 구매, 시작}                 0  \n",
       "\n",
       "[8000 rows x 8 columns]"
      ]
     },
     "execution_count": 30,
     "metadata": {},
     "output_type": "execute_result"
    }
   ],
   "source": [
    "df2['nouns'] = df2['nouns'].apply(set)\n",
    "df2['contain_keywords'] = df2['nouns'].apply(lambda x: 1 if (len( x & set(keywords) )>0) else 0)\n",
    "df2"
   ]
  },
  {
   "cell_type": "code",
   "execution_count": 31,
   "metadata": {},
   "outputs": [
    {
     "data": {
      "text/plain": [
       "tag\n",
       "1    1186\n",
       "dtype: int64"
      ]
     },
     "execution_count": 31,
     "metadata": {},
     "output_type": "execute_result"
    }
   ],
   "source": [
    "df2[df2['tag'] != df2['contain_keywords']].value_counts('tag')"
   ]
  },
  {
   "cell_type": "code",
   "execution_count": 32,
   "metadata": {},
   "outputs": [
    {
     "data": {
      "text/plain": [
       "0.14825"
      ]
     },
     "execution_count": 32,
     "metadata": {},
     "output_type": "execute_result"
    }
   ],
   "source": [
    "1186/8000"
   ]
  },
  {
   "cell_type": "code",
   "execution_count": null,
   "metadata": {},
   "outputs": [],
   "source": []
  }
 ],
 "metadata": {
  "kernelspec": {
   "display_name": "base",
   "language": "python",
   "name": "python3"
  },
  "language_info": {
   "codemirror_mode": {
    "name": "ipython",
    "version": 3
   },
   "file_extension": ".py",
   "mimetype": "text/x-python",
   "name": "python",
   "nbconvert_exporter": "python",
   "pygments_lexer": "ipython3",
   "version": "3.8.13"
  },
  "orig_nbformat": 4,
  "vscode": {
   "interpreter": {
    "hash": "e650a76af8b61bac68830ccd08220010f4794930f80523975eef46125932fe32"
   }
  }
 },
 "nbformat": 4,
 "nbformat_minor": 2
}
