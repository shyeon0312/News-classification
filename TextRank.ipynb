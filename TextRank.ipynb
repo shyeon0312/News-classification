{
  "cells": [
    {
      "cell_type": "code",
      "execution_count": 1,
      "metadata": {
        "id": "4pi80OoQEGn2"
      },
      "outputs": [],
      "source": [
        "import pandas as pd\n",
        "import numpy as np\n",
        "from tqdm import tqdm"
      ]
    },
    {
      "cell_type": "code",
      "execution_count": 2,
      "metadata": {
        "colab": {
          "base_uri": "https://localhost:8080/"
        },
        "id": "WtELDYuPDtbm",
        "outputId": "16897a28-a936-47ec-a711-de4115b7b30a"
      },
      "outputs": [
        {
          "name": "stdout",
          "output_type": "stream",
          "text": [
            "Requirement already satisfied: textrankr in c:\\users\\vaiv\\anaconda3\\lib\\site-packages (1.1)\n",
            "Requirement already satisfied: networkx in c:\\users\\vaiv\\anaconda3\\lib\\site-packages (from textrankr) (2.8.4)\n",
            "Requirement already satisfied: setuptools in c:\\users\\vaiv\\anaconda3\\lib\\site-packages (from textrankr) (63.4.1)\n"
          ]
        },
        {
          "name": "stderr",
          "output_type": "stream",
          "text": [
            "WARNING: Ignoring invalid distribution -pype1 (c:\\users\\vaiv\\anaconda3\\lib\\site-packages)\n",
            "WARNING: Ignoring invalid distribution -pype1 (c:\\users\\vaiv\\anaconda3\\lib\\site-packages)\n",
            "WARNING: Ignoring invalid distribution -pype1 (c:\\users\\vaiv\\anaconda3\\lib\\site-packages)\n",
            "WARNING: Ignoring invalid distribution -pype1 (c:\\users\\vaiv\\anaconda3\\lib\\site-packages)\n",
            "WARNING: Ignoring invalid distribution -pype1 (c:\\users\\vaiv\\anaconda3\\lib\\site-packages)\n",
            "WARNING: Ignoring invalid distribution -pype1 (c:\\users\\vaiv\\anaconda3\\lib\\site-packages)\n"
          ]
        },
        {
          "name": "stdout",
          "output_type": "stream",
          "text": [
            "Requirement already satisfied: konlpy in c:\\users\\vaiv\\anaconda3\\lib\\site-packages (0.6.0)\n",
            "Requirement already satisfied: lxml>=4.1.0 in c:\\users\\vaiv\\anaconda3\\lib\\site-packages (from konlpy) (4.9.1)\n",
            "Requirement already satisfied: numpy>=1.6 in c:\\users\\vaiv\\anaconda3\\lib\\site-packages (from konlpy) (1.21.0)\n",
            "Requirement already satisfied: JPype1>=0.7.0 in c:\\users\\vaiv\\anaconda3\\lib\\site-packages (from konlpy) (1.4.1)\n",
            "Requirement already satisfied: packaging in c:\\users\\vaiv\\anaconda3\\lib\\site-packages (from JPype1>=0.7.0->konlpy) (21.3)\n",
            "Requirement already satisfied: pyparsing!=3.0.5,>=2.0.2 in c:\\users\\vaiv\\anaconda3\\lib\\site-packages (from packaging->JPype1>=0.7.0->konlpy) (3.0.9)\n"
          ]
        },
        {
          "name": "stderr",
          "output_type": "stream",
          "text": [
            "WARNING: Ignoring invalid distribution -pype1 (c:\\users\\vaiv\\anaconda3\\lib\\site-packages)\n",
            "WARNING: Ignoring invalid distribution -pype1 (c:\\users\\vaiv\\anaconda3\\lib\\site-packages)\n",
            "WARNING: Ignoring invalid distribution -pype1 (c:\\users\\vaiv\\anaconda3\\lib\\site-packages)\n",
            "WARNING: Ignoring invalid distribution -pype1 (c:\\users\\vaiv\\anaconda3\\lib\\site-packages)\n",
            "WARNING: Ignoring invalid distribution -pype1 (c:\\users\\vaiv\\anaconda3\\lib\\site-packages)\n",
            "WARNING: Ignoring invalid distribution -pype1 (c:\\users\\vaiv\\anaconda3\\lib\\site-packages)\n"
          ]
        },
        {
          "name": "stdout",
          "output_type": "stream",
          "text": [
            "Requirement already satisfied: textrank in c:\\users\\vaiv\\anaconda3\\lib\\site-packages (0.1.0)\n"
          ]
        },
        {
          "name": "stderr",
          "output_type": "stream",
          "text": [
            "WARNING: Ignoring invalid distribution -pype1 (c:\\users\\vaiv\\anaconda3\\lib\\site-packages)\n",
            "WARNING: Ignoring invalid distribution -pype1 (c:\\users\\vaiv\\anaconda3\\lib\\site-packages)\n",
            "WARNING: Ignoring invalid distribution -pype1 (c:\\users\\vaiv\\anaconda3\\lib\\site-packages)\n",
            "WARNING: Ignoring invalid distribution -pype1 (c:\\users\\vaiv\\anaconda3\\lib\\site-packages)\n",
            "WARNING: Ignoring invalid distribution -pype1 (c:\\users\\vaiv\\anaconda3\\lib\\site-packages)\n",
            "WARNING: Ignoring invalid distribution -pype1 (c:\\users\\vaiv\\anaconda3\\lib\\site-packages)\n"
          ]
        }
      ],
      "source": [
        "!pip install textrankr\n",
        "!pip install konlpy\n",
        "!pip install textrank"
      ]
    },
    {
      "cell_type": "code",
      "execution_count": 3,
      "metadata": {
        "colab": {
          "base_uri": "https://localhost:8080/",
          "height": 206
        },
        "id": "GCxXEFS7EJVS",
        "outputId": "aa859093-9180-432e-9c4a-ba589c6dd88e"
      },
      "outputs": [
        {
          "data": {
            "text/html": [
              "<div>\n",
              "<style scoped>\n",
              "    .dataframe tbody tr th:only-of-type {\n",
              "        vertical-align: middle;\n",
              "    }\n",
              "\n",
              "    .dataframe tbody tr th {\n",
              "        vertical-align: top;\n",
              "    }\n",
              "\n",
              "    .dataframe thead th {\n",
              "        text-align: right;\n",
              "    }\n",
              "</style>\n",
              "<table border=\"1\" class=\"dataframe\">\n",
              "  <thead>\n",
              "    <tr style=\"text-align: right;\">\n",
              "      <th></th>\n",
              "      <th>docID</th>\n",
              "      <th>date</th>\n",
              "      <th>writerName</th>\n",
              "      <th>title</th>\n",
              "      <th>content</th>\n",
              "      <th>tag</th>\n",
              "    </tr>\n",
              "  </thead>\n",
              "  <tbody>\n",
              "    <tr>\n",
              "      <th>0</th>\n",
              "      <td>1</td>\n",
              "      <td>20230214</td>\n",
              "      <td>머니S</td>\n",
              "      <td>정부, AI반도체 석·박사 집중 육성… 대학당 '6년간 164억원' 지원</td>\n",
              "      <td>정부가 미국 AI 개발업체인 '오픈AI'(OpenAI)의 '챗GPT'(ChatGPT...</td>\n",
              "      <td>0</td>\n",
              "    </tr>\n",
              "    <tr>\n",
              "      <th>1</th>\n",
              "      <td>2</td>\n",
              "      <td>20230215</td>\n",
              "      <td>뉴시스</td>\n",
              "      <td>인사 청탁 대가 금품수수 의혹 전 소방청장 영장 기각</td>\n",
              "      <td>기사내용 요약 법원 \"피의 사실 일부 다툼 여지, 불구속 상태 방어권 보장 필요\" ...</td>\n",
              "      <td>0</td>\n",
              "    </tr>\n",
              "    <tr>\n",
              "      <th>2</th>\n",
              "      <td>3</td>\n",
              "      <td>20230214</td>\n",
              "      <td>아이뉴스24</td>\n",
              "      <td>튀르키예 강진에 우리나라 지하수가 출렁였다</td>\n",
              "      <td>튀르키예에서 발생한 강진에 우리나라의 지하수가 출렁였다는 관측 보고가 나왔다. 한국...</td>\n",
              "      <td>0</td>\n",
              "    </tr>\n",
              "    <tr>\n",
              "      <th>3</th>\n",
              "      <td>4</td>\n",
              "      <td>20230215</td>\n",
              "      <td>데일리안</td>\n",
              "      <td>멸치쇼핑, 2023년 신입 및 경력 사원 대규모 공채 진행</td>\n",
              "      <td>[데일리안 = 박영민 기자] 오픈마켓 멸치쇼핑이 2023년 신입 및 경력 사원을 대...</td>\n",
              "      <td>0</td>\n",
              "    </tr>\n",
              "    <tr>\n",
              "      <th>4</th>\n",
              "      <td>5</td>\n",
              "      <td>20230111</td>\n",
              "      <td>뉴스1</td>\n",
              "      <td>美국방부, 추모의 벽 전사자 명단 오류에 \"유감스러운 실수\"</td>\n",
              "      <td>국방부 대변인 \"실수 바로잡기 위해 내무부와 협력\"…'오류 발견' 가족 등에 연락 ...</td>\n",
              "      <td>1</td>\n",
              "    </tr>\n",
              "  </tbody>\n",
              "</table>\n",
              "</div>"
            ],
            "text/plain": [
              "   docID      date writerName                                     title  \\\n",
              "0      1  20230214        머니S  정부, AI반도체 석·박사 집중 육성… 대학당 '6년간 164억원' 지원   \n",
              "1      2  20230215        뉴시스             인사 청탁 대가 금품수수 의혹 전 소방청장 영장 기각   \n",
              "2      3  20230214     아이뉴스24                   튀르키예 강진에 우리나라 지하수가 출렁였다   \n",
              "3      4  20230215       데일리안          멸치쇼핑, 2023년 신입 및 경력 사원 대규모 공채 진행   \n",
              "4      5  20230111        뉴스1         美국방부, 추모의 벽 전사자 명단 오류에 \"유감스러운 실수\"   \n",
              "\n",
              "                                             content  tag  \n",
              "0  정부가 미국 AI 개발업체인 '오픈AI'(OpenAI)의 '챗GPT'(ChatGPT...    0  \n",
              "1  기사내용 요약 법원 \"피의 사실 일부 다툼 여지, 불구속 상태 방어권 보장 필요\" ...    0  \n",
              "2  튀르키예에서 발생한 강진에 우리나라의 지하수가 출렁였다는 관측 보고가 나왔다. 한국...    0  \n",
              "3  [데일리안 = 박영민 기자] 오픈마켓 멸치쇼핑이 2023년 신입 및 경력 사원을 대...    0  \n",
              "4  국방부 대변인 \"실수 바로잡기 위해 내무부와 협력\"…'오류 발견' 가족 등에 연락 ...    1  "
            ]
          },
          "execution_count": 3,
          "metadata": {},
          "output_type": "execute_result"
        }
      ],
      "source": [
        "df = pd.read_csv('../data/train.csv')\n",
        "df.head()"
      ]
    },
    {
      "attachments": {},
      "cell_type": "markdown",
      "metadata": {},
      "source": [
        "### **Summarize**"
      ]
    },
    {
      "cell_type": "code",
      "execution_count": 4,
      "metadata": {
        "id": "1AP4Lt6eEV2S"
      },
      "outputs": [],
      "source": [
        "from typing import List\n",
        "# from eunjeon import Mecab\n",
        "from konlpy.tag import Okt\n",
        "\n",
        "\n",
        "# class NounsTokenizer:\n",
        "#     mecab = Mecab()\n",
        "#     def __call__(self, df):\n",
        "#         tokens = df['content'].apply(lambda x: mecab.nouns(x))\n",
        "#         return tokens\n",
        "\n",
        "class OktTokenizer:\n",
        "    okt: Okt = Okt()\n",
        "\n",
        "    def __call__(self, text: str) -> List[str]:\n",
        "        tokens: List[str] = self.okt.phrases(text)\n",
        "        return tokens"
      ]
    },
    {
      "cell_type": "code",
      "execution_count": 5,
      "metadata": {
        "colab": {
          "base_uri": "https://localhost:8080/"
        },
        "id": "dEWbMzBXEiAf",
        "outputId": "772be511-c7e4-4572-80da-7c0c1c0394e6"
      },
      "outputs": [
        {
          "name": "stdout",
          "output_type": "stream",
          "text": [
            "정부가 미국 AI 개발업체인 '오픈AI'(OpenAI)의 '챗GPT'(ChatGPT)의 등장으로 AI 산업 시장에 일어날 대격변에 앞서 AI반도체 산업 고급 인재양성을 위한 대학원 사업 공고를 시행한다\n",
            "정부는 이번 사업을 통해 국가 전략기술이자 경제 안보의 핵심 품목인 AI반도체 분야 기술 경쟁력을 높이고 미래 유망 신시장을 창출, 세계적인 수준의 AI반도체 설계와 AI소프트웨어 전문 고급인재 약 500명 양성을 목표로 하고 있다\n",
            "전영수 과기부 정보통신산업정책관은 \"데이터 센터와 자율주행, 사물인터넷 등 AI 산업 확산에 따라 다양한 분야로 AI반도체 활용이 확대되고 있다\"며 \"AI반도체 대학원 등 디지털 첨단 분야 인재양성을 통해 미래 유망 분야 산업 생태계 조성을 더욱 공고히 하고 국가 기술 주권 확보를 위해 총력을 다하겠다\"고 말했다\n"
          ]
        }
      ],
      "source": [
        "from typing import List\n",
        "from textrankr import TextRank\n",
        "\n",
        "myTokenizer = OktTokenizer()\n",
        "textrank = TextRank(myTokenizer)\n",
        "\n",
        "k: int = 3  # num sentences in the resulting summary\n",
        "\n",
        "text = df['content'][0]\n",
        "# summarized = textrank.summarize(text, k)\n",
        "# print(summarized)  # gives you some text\n",
        "\n",
        "# if verbose = False, it returns a list\n",
        "summaries: List[str] = textrank.summarize(text, k, verbose=False)\n",
        "for summary in summaries:\n",
        "    print(summary)"
      ]
    },
    {
      "attachments": {},
      "cell_type": "markdown",
      "metadata": {
        "id": "_CVJQwSFGoLj"
      },
      "source": [
        "### **Keyword Extraction**\n",
        "- 참고 : https://lovit.github.io/nlp/2019/04/30/textrank/\n"
      ]
    },
    {
      "cell_type": "code",
      "execution_count": 6,
      "metadata": {
        "colab": {
          "base_uri": "https://localhost:8080/",
          "height": 394
        },
        "id": "LVjbRsVoHxh4",
        "outputId": "b57f249a-c459-4ce2-84e9-d0ab2855f9d7"
      },
      "outputs": [],
      "source": [
        "from collections import Counter\n",
        "\n",
        "def scan_vocabulary(sents, tokenize, min_count=2):\n",
        "    counter = Counter(w for sent in sents for w in tokenize(sent))\n",
        "    counter = {w:c for w,c in counter.items() if c >= min_count}\n",
        "    idx_to_vocab = [w for w, _ in sorted(counter.items(), key=lambda x:-x[1])]\n",
        "    vocab_to_idx = {vocab:idx for idx, vocab in enumerate(idx_to_vocab)}\n",
        "    return idx_to_vocab, vocab_to_idx"
      ]
    },
    {
      "cell_type": "code",
      "execution_count": 7,
      "metadata": {},
      "outputs": [],
      "source": [
        "from scipy.sparse import csr_matrix\n",
        "\n",
        "def dict_to_mat(d, n_rows, n_cols):\n",
        "    rows, cols, data = [], [], []\n",
        "    for (i, j), v in d.items():\n",
        "        rows.append(i)\n",
        "        cols.append(j)\n",
        "        data.append(v)\n",
        "    return csr_matrix((data, (rows, cols)), shape=(n_rows, n_cols))"
      ]
    },
    {
      "cell_type": "code",
      "execution_count": 8,
      "metadata": {
        "id": "jxU4xpZeH2Ln"
      },
      "outputs": [],
      "source": [
        "from collections import defaultdict\n",
        "\n",
        "def cooccurrence(tokens, vocab_to_idx, window=2, min_cooccurrence=2):\n",
        "    counter = defaultdict(int)\n",
        "    for s, tokens_i in enumerate(tokens):\n",
        "        vocabs = [vocab_to_idx[w] for w in tokens_i if w in vocab_to_idx]\n",
        "        n = len(vocabs)\n",
        "        for i, v in enumerate(vocabs):\n",
        "            if window <= 9:\n",
        "                b, e = 0, n\n",
        "            else:\n",
        "                b = max(0, i - window)\n",
        "                e = min(i + window, n)\n",
        "            for j in range(b, e):\n",
        "                if i == j:\n",
        "                    continue\n",
        "                counter[(v, vocabs[j])] += 1\n",
        "                counter[(vocabs[j], v)] += 1\n",
        "    counter = {k:v for k,v in counter.items() if v >= min_cooccurrence}\n",
        "    n_vocabs = len(vocab_to_idx)\n",
        "    return dict_to_mat(counter, n_vocabs, n_vocabs)"
      ]
    },
    {
      "cell_type": "code",
      "execution_count": 9,
      "metadata": {},
      "outputs": [],
      "source": [
        "def word_graph(sents, tokenize=None, min_count=2, window=2, min_cooccurrence=2):\n",
        "    idx_to_vocab, vocab_to_idx = scan_vocabulary(sents, tokenize, min_count)\n",
        "    tokens = [tokenize(sent) for sent in sents]\n",
        "    g = cooccurrence(tokens, vocab_to_idx, window, min_cooccurrence)\n",
        "    return g, idx_to_vocab"
      ]
    },
    {
      "cell_type": "code",
      "execution_count": 10,
      "metadata": {},
      "outputs": [],
      "source": [
        "import numpy as np\n",
        "from sklearn.preprocessing import normalize\n",
        "\n",
        "def pagerank(x, df=0.85, max_iter=30):\n",
        "    assert 0 < df < 1\n",
        "\n",
        "    # initialize\n",
        "    A = normalize(x, axis=0, norm='l1')\n",
        "    R = np.ones(A.shape[0]).reshape(-1,1)\n",
        "    bias = (1 - df) * np.ones(A.shape[0]).reshape(-1,1)\n",
        "\n",
        "    # iteration\n",
        "    for _ in range(max_iter):\n",
        "        R = df * (A * R) + bias\n",
        "\n",
        "    return R"
      ]
    },
    {
      "cell_type": "code",
      "execution_count": 11,
      "metadata": {},
      "outputs": [],
      "source": [
        "\n",
        "from konlpy.tag import Komoran\n",
        "\n",
        "komoran = Komoran()\n",
        "def komoran_tokenize(sent):\n",
        "    words = komoran.pos(sent, join=True)\n",
        "    words = [w for w in words if ('/NN' in w or '/XR' in w or '/VA' in w or '/VV' in w)]\n",
        "    return words\n",
        "\n",
        "def textrank_keyword(sents, tokenize, min_count, window, min_cooccurrence, df=0.85, max_iter=30, topk=30):\n",
        "    g, idx_to_vocab = word_graph(sents, tokenize, min_count, window, min_cooccurrence)\n",
        "    R = pagerank(g, df, max_iter).reshape(-1)\n",
        "    idxs = R.argsort()[-topk:]\n",
        "    keywords = [(idx_to_vocab[idx], R[idx]) for idx in reversed(idxs)]\n",
        "    return keywords"
      ]
    },
    {
      "cell_type": "code",
      "execution_count": 12,
      "metadata": {},
      "outputs": [],
      "source": [
        "## Test\n",
        "# keywords = textrank_keyword(\n",
        "#     summaries,\n",
        "#     tokenize = komoran_tokenize,\n",
        "#     min_count = 2, \n",
        "#     window = 2,\n",
        "#     min_cooccurrence=2\n",
        "# )"
      ]
    },
    {
      "cell_type": "code",
      "execution_count": 13,
      "metadata": {},
      "outputs": [
        {
          "name": "stdout",
          "output_type": "stream",
          "text": [
            "NaN이 있는 행 개수 :  102\n"
          ]
        },
        {
          "name": "stderr",
          "output_type": "stream",
          "text": [
            "C:\\Users\\vaiv\\AppData\\Local\\Temp\\ipykernel_9296\\826635131.py:4: SettingWithCopyWarning: \n",
            "A value is trying to be set on a copy of a slice from a DataFrame.\n",
            "Try using .loc[row_indexer,col_indexer] = value instead\n",
            "\n",
            "See the caveats in the documentation: https://pandas.pydata.org/pandas-docs/stable/user_guide/indexing.html#returning-a-view-versus-a-copy\n",
            "  df_dropna['title_content'] = df_dropna['title'] + ' ' + df_dropna['content'] # title + content\n"
          ]
        }
      ],
      "source": [
        "# NaN 있는 행 제거\n",
        "print('NaN이 있는 행 개수 : ', df['content'].isna().sum())\n",
        "df_dropna = df.dropna(axis=0, subset=['content']) # content가 없는 기사는 drop --> 총 102개\n",
        "df_dropna['title_content'] = df_dropna['title'] + ' ' + df_dropna['content'] # title + content\n",
        "df_dropna['title_content'].head()\n",
        "\n",
        "text = df_dropna['content'].apply(lambda x: x.split('. '))"
      ]
    },
    {
      "cell_type": "code",
      "execution_count": 16,
      "metadata": {},
      "outputs": [
        {
          "name": "stderr",
          "output_type": "stream",
          "text": [
            "7898it [03:04, 42.71it/s]\n"
          ]
        }
      ],
      "source": [
        "keywords_list = []\n",
        "for idx, sents in tqdm(enumerate(text)):\n",
        "    try:\n",
        "        keywords = textrank_keyword(\n",
        "            sents,\n",
        "            tokenize = komoran_tokenize,\n",
        "            min_count = 2, \n",
        "            window = 2,\n",
        "            min_cooccurrence=2\n",
        "        )\n",
        "        keywords = [x for x in keywords if len(x[0].split('/')[0])>1]\n",
        "        len_words = min(len(keywords), 10)\n",
        "        keywords_list.append(keywords[:len_words])\n",
        "    except Exception as e:\n",
        "        # print(idx, ' ', e)\n",
        "        keywords_list.append('')"
      ]
    },
    {
      "cell_type": "code",
      "execution_count": 20,
      "metadata": {},
      "outputs": [],
      "source": [
        "keyword = [[y[0].split('/')[0] for y in x] for x in keywords_list]\n",
        "scores = [[y[1] for y in x] for x in keywords_list]"
      ]
    },
    {
      "cell_type": "code",
      "execution_count": 23,
      "metadata": {},
      "outputs": [
        {
          "name": "stderr",
          "output_type": "stream",
          "text": [
            "C:\\Users\\vaiv\\AppData\\Local\\Temp\\ipykernel_9296\\412472281.py:3: SettingWithCopyWarning: \n",
            "A value is trying to be set on a copy of a slice from a DataFrame.\n",
            "Try using .loc[row_indexer,col_indexer] = value instead\n",
            "\n",
            "See the caveats in the documentation: https://pandas.pydata.org/pandas-docs/stable/user_guide/indexing.html#returning-a-view-versus-a-copy\n",
            "  df_dropna['textrank'] = keyword\n",
            "C:\\Users\\vaiv\\AppData\\Local\\Temp\\ipykernel_9296\\412472281.py:4: SettingWithCopyWarning: \n",
            "A value is trying to be set on a copy of a slice from a DataFrame.\n",
            "Try using .loc[row_indexer,col_indexer] = value instead\n",
            "\n",
            "See the caveats in the documentation: https://pandas.pydata.org/pandas-docs/stable/user_guide/indexing.html#returning-a-view-versus-a-copy\n",
            "  df_dropna['textrank_score'] = scores\n"
          ]
        }
      ],
      "source": [
        "# csv 파일로 저장\n",
        "result = pd.read_csv('../data/train_result.csv')\n",
        "df_dropna['textrank'] = keyword\n",
        "df_dropna['textrank_score'] = scores\n",
        "result = pd.merge(result, df_dropna[['docID', 'textrank', 'textrank_score']], on='docID', how='left')\n",
        "result.to_csv('../data/train_result.csv', index=False, encoding='utf-8-sig')"
      ]
    },
    {
      "attachments": {},
      "cell_type": "markdown",
      "metadata": {},
      "source": [
        "### ***...Test...***"
      ]
    },
    {
      "cell_type": "code",
      "execution_count": 47,
      "metadata": {},
      "outputs": [],
      "source": [
        "text = '''윤석열 대통령은 8일 국민의힘 차기 지도부를 선출하는 전당대회에 참석해 “나라의 위기 그리고 당의 위기를 정치적 기회로 악용하면 절대 안 된다”고 강조했다. 윤 대통령은 이날 경기 고양시 일산 킨텍스에서 열린 국민의힘 제3차 전당대회에서 축사를 통해 “우리는 어떠한 부당한 세력과도 (싸우는 것을) 주저하지 말고 두려워하지 말아야 한다. 그것이 우리 당이 국민으로부터 더욱 사랑받는 길”이라며 이같이 밝혔다. 윤 대통령은 정진석 비상대책위원장과 주호영 원내대표 등 국민의힘 지도부에게 “어려운 시기에 당을 이끌어줘서 고생 많았다”고 인사한 뒤 “새롭게 선출될 국민의힘 지도부에 먼저 뜨거운 격려의 박수를 보낸다”고 했다. 이어 국민의힘이 보수정당으로서, 집권 여당으로서 나아가야 할 지향점을 제시했다. 윤 대통령은 “우리 당은 우리 번영의 토대인 자유민주주의 헌법 가치를 수호하는 정당으로서 약자를 따뜻하게 배려하는 사회를 만들어갈 책임이 있다”며 “국제사회의 리더 국가로서 우리와 세계 시민의 자유를 확장하고 국제사회의 평화와 번영을 만들어갈 책임이 있다”고 말했다. 이어 “새로 선출될 지도부와 우리 모두 하나가 돼야 한다”며 “우리 국민의힘 당내 선거에서는 승자도 패자도 없다”고 강조했다. 그러면서 “우리 당 구성원 모두 첫째도 국민, 둘째도 국민, 셋째도 국민만을 생각하고 함께 전진해야 한다”며 “우리 모두 힘을 합쳐 다시 대한민국, 새로운 국민의 나라를 만들어 가자”고 했다. 윤석열 대통령이 8일 경기 고양시 킨텍스에서 열린 국민의힘 제3차 전당대회에서 축사를 하고 있다. 윤 대통령은 새 정부 출범 후 10개월을 되돌아보며 “저는 그동안 우리의 헌법 정신인 자유와 연대의 가치를 역설해왔다. 이제 우리는 무너진 자유민주주의와 시장경제 체제를 바로잡아 달라는 국민의 목소리, 강력한 국가 안보를 통해 평화를 지켜달라는 국민의 목소리에 더 강력하게 행동하고 더 신속하게 실천해야 한다”고 말했다. 이어 “시장이 자유롭고 공정하게 작동할 수 있도록 우리의 제도를 선진 글로벌 스탠더드에 맞추고, 국민을 고통에 빠뜨리는 기득권 이권 카르텔은 확실하게 뿌리 뽑아야 한다”며 “우리 사회의 지속 가능성과 청년세대를 위한 노동, 교육, 연금 3대 개혁을 흔들림 없이 추진해야 한다”고 했다. 윤 대통령은 “우리의 미래는 결코 저절로 오지 않는다”며 “기득권의 집요한 저항에 부딪혀도 미래세대를 위한 길, 나라의 혁신을 위한 길을 결코 포기하거나 늦춰서는 안 된다”고 강조했다. 윤 대통령은 이날 축사를 위해 오른 단상에서 어퍼컷 세리머니를 선보이기도 했다. 현직 대통령이 집권 여당 전당대회에 참석한 것은 2008년 이명박 전 대통령(한나라당), 2014년 박근혜 전 대통령(새누리당) 이후 9년 만이다.'''"
      ]
    },
    {
      "cell_type": "code",
      "execution_count": 48,
      "metadata": {},
      "outputs": [
        {
          "data": {
            "text/plain": [
              "['윤석열 대통령은 8일 국민의힘 차기 지도부를 선출하는 전당대회에 참석해 “나라의 위기 그리고 당의 위기를 정치적 기회로 악용하면 절대 안 된다”고 강조했다',\n",
              " '윤 대통령은 이날 경기 고양시 일산 킨텍스에서 열린 국민의힘 제3차 전당대회에서 축사를 통해 “우리는 어떠한 부당한 세력과도 (싸우는 것을) 주저하지 말고 두려워하지 말아야 한다',\n",
              " '그것이 우리 당이 국민으로부터 더욱 사랑받는 길”이라며 이같이 밝혔다',\n",
              " '윤 대통령은 정진석 비상대책위원장과 주호영 원내대표 등 국민의힘 지도부에게 “어려운 시기에 당을 이끌어줘서 고생 많았다”고 인사한 뒤 “새롭게 선출될 국민의힘 지도부에 먼저 뜨거운 격려의 박수를 보낸다”고 했다',\n",
              " '이어 국민의힘이 보수정당으로서, 집권 여당으로서 나아가야 할 지향점을 제시했다',\n",
              " '윤 대통령은 “우리 당은 우리 번영의 토대인 자유민주주의 헌법 가치를 수호하는 정당으로서 약자를 따뜻하게 배려하는 사회를 만들어갈 책임이 있다”며 “국제사회의 리더 국가로서 우리와 세계 시민의 자유를 확장하고 국제사회의 평화와 번영을 만들어갈 책임이 있다”고 말했다',\n",
              " '이어 “새로 선출될 지도부와 우리 모두 하나가 돼야 한다”며 “우리 국민의힘 당내 선거에서는 승자도 패자도 없다”고 강조했다',\n",
              " '그러면서 “우리 당 구성원 모두 첫째도 국민, 둘째도 국민, 셋째도 국민만을 생각하고 함께 전진해야 한다”며 “우리 모두 힘을 합쳐 다시 대한민국, 새로운 국민의 나라를 만들어 가자”고 했다',\n",
              " '윤석열 대통령이 8일 경기 고양시 킨텍스에서 열린 국민의힘 제3차 전당대회에서 축사를 하고 있다',\n",
              " '윤 대통령은 새 정부 출범 후 10개월을 되돌아보며 “저는 그동안 우리의 헌법 정신인 자유와 연대의 가치를 역설해왔다',\n",
              " '이제 우리는 무너진 자유민주주의와 시장경제 체제를 바로잡아 달라는 국민의 목소리, 강력한 국가 안보를 통해 평화를 지켜달라는 국민의 목소리에 더 강력하게 행동하고 더 신속하게 실천해야 한다”고 말했다',\n",
              " '이어 “시장이 자유롭고 공정하게 작동할 수 있도록 우리의 제도를 선진 글로벌 스탠더드에 맞추고, 국민을 고통에 빠뜨리는 기득권 이권 카르텔은 확실하게 뿌리 뽑아야 한다”며 “우리 사회의 지속 가능성과 청년세대를 위한 노동, 교육, 연금 3대 개혁을 흔들림 없이 추진해야 한다”고 했다',\n",
              " '윤 대통령은 “우리의 미래는 결코 저절로 오지 않는다”며 “기득권의 집요한 저항에 부딪혀도 미래세대를 위한 길, 나라의 혁신을 위한 길을 결코 포기하거나 늦춰서는 안 된다”고 강조했다',\n",
              " '윤 대통령은 이날 축사를 위해 오른 단상에서 어퍼컷 세리머니를 선보이기도 했다',\n",
              " '현직 대통령이 집권 여당 전당대회에 참석한 것은 2008년 이명박 전 대통령(한나라당), 2014년 박근혜 전 대통령(새누리당) 이후 9년 만이다.']"
            ]
          },
          "execution_count": 48,
          "metadata": {},
          "output_type": "execute_result"
        }
      ],
      "source": [
        "sents = text.split('. ')\n",
        "sents"
      ]
    },
    {
      "cell_type": "code",
      "execution_count": 49,
      "metadata": {},
      "outputs": [],
      "source": [
        "keywords = textrank_keyword(\n",
        "    sents,\n",
        "    tokenize = komoran_tokenize,\n",
        "    min_count = 2, \n",
        "    window = 2,\n",
        "    min_cooccurrence=2\n",
        ")\n",
        "keywords = [x for x in keywords if len(x[0].split('/')[0])>1]"
      ]
    },
    {
      "cell_type": "code",
      "execution_count": 50,
      "metadata": {},
      "outputs": [
        {
          "data": {
            "text/plain": [
              "[('국민/NNG', 3.3973521725045885),\n",
              " ('대통령/NNG', 2.980467999842943),\n",
              " ('대회/NNG', 1.359786218246375),\n",
              " ('전당/NNG', 1.359786218246375),\n",
              " ('만들/VV', 1.1961659729234588),\n",
              " ('사회/NNG', 1.1924562844477715),\n",
              " ('지도부/NNG', 1.0467066708470085),\n",
              " ('있다/NNP', 0.993454661260788),\n",
              " ('책임/NNG', 0.993454661260788),\n",
              " ('번영/NNG', 0.993454661260788),\n",
              " ('위하/VV', 0.9663758575334535),\n",
              " ('나라/NNG', 0.9300298068989508),\n",
              " ('축사/NNG', 0.8889241028078108),\n",
              " ('자유/NNG', 0.8569376887155538),\n",
              " ('강조/NNG', 0.8522070359249805),\n",
              " ('자유민주주의/NNP', 0.8453184426620151),\n",
              " ('국가/NNG', 0.8453184426620151),\n",
              " ('평화/NNG', 0.8453184426620151),\n",
              " ('선출/NNG', 0.8198452086379223),\n",
              " ('위기/NNG', 0.7946872292811474),\n",
              " ('경기/NNP', 0.7799493685485686),\n",
              " ('고양시/NNP', 0.7799493685485686),\n",
              " ('킨텍스/NNP', 0.7799493685485686)]"
            ]
          },
          "execution_count": 50,
          "metadata": {},
          "output_type": "execute_result"
        }
      ],
      "source": [
        "keywords"
      ]
    },
    {
      "cell_type": "code",
      "execution_count": 51,
      "metadata": {},
      "outputs": [
        {
          "name": "stdout",
          "output_type": "stream",
          "text": [
            "윤석열 대통령은 8일 국민의힘 차기 지도부를 선출하는 전당대회에 참석해 “나라의 위기 그리고 당의 위기를 정치적 기회로 악용하면 절대 안 된다”고 강조했다\n",
            "윤 대통령은 이날 경기 고양시 일산 킨텍스에서 열린 국민의힘 제3차 전당대회에서 축사를 통해 “우리는 어떠한 부당한 세력과도 (싸우는 것을) 주저하지 말고 두려워하지 말아야 한다\n",
            "윤석열 대통령이 8일 경기 고양시 킨텍스에서 열린 국민의힘 제3차 전당대회에서 축사를 하고 있다\n"
          ]
        }
      ],
      "source": [
        "from typing import List\n",
        "from textrankr import TextRank\n",
        "\n",
        "myTokenizer = OktTokenizer()\n",
        "textrank = TextRank(myTokenizer)\n",
        "\n",
        "k: int = 3  # num sentences in the resulting summary\n",
        "\n",
        "summarized = textrank.summarize(text, k)\n",
        "print(summarized)  # gives you some text"
      ]
    },
    {
      "cell_type": "code",
      "execution_count": null,
      "metadata": {},
      "outputs": [],
      "source": []
    }
  ],
  "metadata": {
    "colab": {
      "provenance": []
    },
    "kernelspec": {
      "display_name": "Python 3",
      "name": "python3"
    },
    "language_info": {
      "codemirror_mode": {
        "name": "ipython",
        "version": 3
      },
      "file_extension": ".py",
      "mimetype": "text/x-python",
      "name": "python",
      "nbconvert_exporter": "python",
      "pygments_lexer": "ipython3",
      "version": "3.8.13"
    }
  },
  "nbformat": 4,
  "nbformat_minor": 0
}
